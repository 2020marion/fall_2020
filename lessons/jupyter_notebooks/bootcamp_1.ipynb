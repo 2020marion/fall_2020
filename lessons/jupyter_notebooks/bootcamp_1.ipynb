{
 "cells": [
  {
   "cell_type": "markdown",
   "metadata": {},
   "source": [
    "# Bootcamp 1\n",
    "<img src=\"https://i.ytimg.com/vi/N_Ls37qeQ4c/hqdefault.jpg\" width=\"300\">"
   ]
  },
  {
   "cell_type": "markdown",
   "metadata": {},
   "source": [
    "# Before class"
   ]
  },
  {
   "cell_type": "markdown",
   "metadata": {},
   "source": [
    "* Make sure you feel comfortable with using the command line\n",
    "* Make sure you feel comfortable pushing changes to your course folder to your course github repo\n",
    "* Make a folder called `bootcamp_scripts` in your class folder (your github repo)"
   ]
  },
  {
   "cell_type": "markdown",
   "metadata": {},
   "source": [
    "# Outline of class agenda\n",
    "\n",
    "Today is our first class of Python Bootcamp material! By the end of the lesson, you'll:\n",
    "\n",
    "1. Be able to write python scripts that output or `print` things\n",
    "2. Be able to include comments in your python scripts\n",
    "3. Feel comfortable assigning and updating variables\n",
    "4. Feel comfortable working with the Integer data type\n",
    "5. Feel comfortable working with the Float data type\n",
    "\n",
    "\n",
    " "
   ]
  },
  {
   "cell_type": "markdown",
   "metadata": {},
   "source": [
    "# Class \n",
    "\n",
    "One thing you might be wondering today as we start the bootcamp is: what exactly *is* a python script?\n",
    "* A Python script is any bit of valid Python code in a file with the .py extension (there's actually nothing special about this extension, it just helps your computer label it as python code)\n",
    "* The python code itself is just plain text in the syntax of the programming language\n"
   ]
  },
  {
   "cell_type": "markdown",
   "metadata": {},
   "source": [
    "## 1. Print statements\n",
    "\n",
    "When you think of 'printing', you might initially think about printing on paper. But, to **print** in python means to **send back output, or to 'print' to the screen**. \n",
    "\n",
    "Over the whole course, print statements will be helpful to you because they give you way to **display** what your code is doing.\n",
    "\n",
    "First, make a new file called `print.py` in your `bootcamp_scripts` folder. We'll use this script to get comfortable working with print statements. You can open this up in your text editor to get started.\n",
    "\n",
    "### Printing text\n",
    "\n",
    "To get started, let's print out some text just like we did with the `hello_world.py` script we made last week. On the first line of this file, let's add the following:\n",
    "\n",
    "```python\n",
    "print('hi, this is your computer speaking')\n",
    "```\n",
    "\n",
    "Now, run your script from the command line (make sure you've set bootcamp script as your working directory) with:\n",
    "\n",
    "```console\n",
    "$ python print.py\n",
    "```\n",
    "\n",
    "We can see that when we run the script, we get 'hi, this is your computer speaking' **printed** out for us. Nice! \n",
    "\n",
    "### Printing requires parenthesis!\n",
    "\n",
    "You might be wondering why we needed to put both *single quotes and parenthesis* around the actual text we wanted to print out here. \n",
    "* We'll get to the reason for the single quotes soon when we cover [strings](https://www.w3schools.com/python/python_strings.asp) (hint: strings always have quotes around them).\n",
    "* In Python version 3 (most likely what you're using for this class), you need to put what you want to print out in parenthesis. \n",
    "\n",
    "Let's see what happens if we leave out the parenthesis and change the script to:\n",
    "\n",
    "```python\n",
    "print 'hi, this is your computer speaking' \n",
    "```\n",
    "\n",
    "Then if we run it from the command line again, we see:\n",
    "\n",
    "```console\n",
    "$ python print.py\n",
    "  File \"print.py\", line 1\n",
    "    print 'hi this is your computer speaking'\n",
    "                                            ^\n",
    "SyntaxError: Missing parentheses in call to 'print'. Did you mean print('hi this is your computer speaking')?\n",
    "```\n",
    "\n",
    "This error looks confusing, but it is trying to help us to let us know we forgot parenthesis in our print statement! So, if you see this in the future, you can know to check your print statements for completion."
   ]
  },
  {
   "cell_type": "markdown",
   "metadata": {},
   "source": [
    "### Printing multiple things\n",
    "\n",
    "This might be a good place to point out that **python scripts generally execute line by line, in order from top to bottom**. So, if you write print statements on two consecutive lines, they'll print out in that order.\n",
    "\n",
    "Try adding another print statement on a new line so your `print.py` script has:\n",
    "\n",
    "```python\n",
    "print('hi, this is your computer speaking')\n",
    "print('i can run a lot of python code')\n",
    "```\n",
    "You should see both lines ouput on their own lines at the command line!\n",
    "\n",
    "\n",
    "```console\n",
    "$ python print.py \n",
    "hi this is your computer speaking\n",
    "i can run a lot of python code\n",
    "```\n",
    "\n",
    "In general though, each line in python can only have one statement though. For example, if you try to do two print statements on one line, it doesn't work:\n",
    "\n",
    "```python\n",
    "print('hi, this is your computer speaking') print('i can run a lot of python code')\n",
    "```\n",
    "\n",
    "You'll see an invalid syntax error when you run this\n",
    "```console \n",
    "$ python print.py \n",
    "  File \"print.py\", line 1\n",
    "    print ('hi this is your computer speaking') print ('i can run a lot of python code')\n",
    "                                                    ^\n",
    "SyntaxError: invalid syntax\n",
    "```\n",
    "\n",
    "Because python runs code line-by-line, we can only put one print statement per line."
   ]
  },
  {
   "cell_type": "markdown",
   "metadata": {},
   "source": [
    "## 2. Comments"
   ]
  },
  {
   "cell_type": "markdown",
   "metadata": {},
   "source": [
    "## 3. Assigning & updating variables"
   ]
  },
  {
   "cell_type": "markdown",
   "metadata": {},
   "source": [
    "## 4. Integers"
   ]
  },
  {
   "cell_type": "markdown",
   "metadata": {},
   "source": [
    "## 5. Floats"
   ]
  }
 ],
 "metadata": {
  "kernelspec": {
   "display_name": "Python 3",
   "language": "python",
   "name": "python3"
  },
  "language_info": {
   "codemirror_mode": {
    "name": "ipython",
    "version": 3
   },
   "file_extension": ".py",
   "mimetype": "text/x-python",
   "name": "python",
   "nbconvert_exporter": "python",
   "pygments_lexer": "ipython3",
   "version": "3.7.4"
  }
 },
 "nbformat": 4,
 "nbformat_minor": 4
}
