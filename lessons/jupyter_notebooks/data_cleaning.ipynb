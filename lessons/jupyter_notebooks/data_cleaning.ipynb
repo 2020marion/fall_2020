{
 "cells": [
  {
   "cell_type": "markdown",
   "metadata": {},
   "source": [
    "# Before class"
   ]
  },
  {
   "cell_type": "markdown",
   "metadata": {},
   "source": [
    "* Make sure you have downloaded the 'musical_instrument_reviews.csv' data file. This is a dataset containing reviews for a product on Amazon (taken from [a larger dataset on Kaggle](https://www.kaggle.com/eswarchandt/amazon-music-reviews)), and we'll be cleaning the data so we can see if customers liked the product or not.\n"
   ]
  },
  {
   "cell_type": "markdown",
   "metadata": {},
   "source": [
    "# Outline of class agenda\n",
    "\n",
    "During this class you'll:\n",
    "\n",
    "1. Learn how to select data in DataFrames by columns and by rows\n",
    "2. Learn how to change DataFrame column names\n",
    "3. Learn how to make new columns and remove columns\n",
    "4. Learn how to spot missing data in DataFrames and replace it\n",
    "5. Learn how to sort data in DataFrames\n",
    "6. Learn how to export data from a DataFrame back to a csv file\n",
    "7. Get comfortable with the 'data cleaning' process in python overall\n",
    " "
   ]
  },
  {
   "cell_type": "markdown",
   "metadata": {},
   "source": [
    "# Class\n",
    "\n",
    "Today we're going to focus on 'data cleaning'. But, what is data cleaning, exactly?\n",
    "* Any operations you need to do to get your data in shape for analysis, graphs, or presentations\n",
    "* Typically involves checking the data for correctness, fixing errors, and dealing with missing data\n",
    "* Might involve selecting only certain parts of larger datasets, or combining multiple datasets\n",
    "\n",
    "Data cleaning might not always be the most exciting aspect of working with data, but it is *super important* for any projects where you're working with data! It also is something most data scientists spend a [lot of time](https://businessoverbroadway.com/2019/02/19/how-do-data-professionals-spend-their-time-on-data-science-projects/) on\n",
    "\n",
    "\n",
    "To get started for today, we'll import pandas as usual, then read in a daset on musical instruments from a .csv file"
   ]
  },
  {
   "cell_type": "markdown",
   "metadata": {},
   "source": [
    "First import pandas"
   ]
  },
  {
   "cell_type": "code",
   "execution_count": 186,
   "metadata": {},
   "outputs": [],
   "source": [
    "import pandas as pd"
   ]
  },
  {
   "cell_type": "markdown",
   "metadata": {},
   "source": [
    "Then, read in the csv file using `pd.read_csv()`"
   ]
  },
  {
   "cell_type": "code",
   "execution_count": 187,
   "metadata": {},
   "outputs": [],
   "source": [
    "reviews = pd.read_csv('../../datasets/musical_instrument_reviews.csv')\n"
   ]
  },
  {
   "cell_type": "markdown",
   "metadata": {},
   "source": [
    "Now, let's take a quick look at it:"
   ]
  },
  {
   "cell_type": "code",
   "execution_count": 188,
   "metadata": {},
   "outputs": [
    {
     "data": {
      "text/html": [
       "<div>\n",
       "<style scoped>\n",
       "    .dataframe tbody tr th:only-of-type {\n",
       "        vertical-align: middle;\n",
       "    }\n",
       "\n",
       "    .dataframe tbody tr th {\n",
       "        vertical-align: top;\n",
       "    }\n",
       "\n",
       "    .dataframe thead th {\n",
       "        text-align: right;\n",
       "    }\n",
       "</style>\n",
       "<table border=\"1\" class=\"dataframe\">\n",
       "  <thead>\n",
       "    <tr style=\"text-align: right;\">\n",
       "      <th></th>\n",
       "      <th>reviewerID</th>\n",
       "      <th>reviewerName</th>\n",
       "      <th>reviewText</th>\n",
       "      <th>overall</th>\n",
       "      <th>summary</th>\n",
       "      <th>reviewTime</th>\n",
       "      <th>reviewWords</th>\n",
       "    </tr>\n",
       "  </thead>\n",
       "  <tbody>\n",
       "    <tr>\n",
       "      <td>0</td>\n",
       "      <td>A2IBPI20UZIR0U</td>\n",
       "      <td>cassandra tu \"Yeah, well, that's just like, u...</td>\n",
       "      <td>Not much to write about here, but it does exac...</td>\n",
       "      <td>5.0</td>\n",
       "      <td>good</td>\n",
       "      <td>02 28, 2014</td>\n",
       "      <td>51</td>\n",
       "    </tr>\n",
       "    <tr>\n",
       "      <td>1</td>\n",
       "      <td>A14VAT5EAX3D9S</td>\n",
       "      <td>Jake</td>\n",
       "      <td>The product does exactly as it should and is q...</td>\n",
       "      <td>5.0</td>\n",
       "      <td>Jake</td>\n",
       "      <td>03 16, 2013</td>\n",
       "      <td>104</td>\n",
       "    </tr>\n",
       "    <tr>\n",
       "      <td>2</td>\n",
       "      <td>A195EZSQDW3E21</td>\n",
       "      <td>Rick Bennette \"Rick Bennette\"</td>\n",
       "      <td>The primary job of this device is to block the...</td>\n",
       "      <td>5.0</td>\n",
       "      <td>It Does The Job Well</td>\n",
       "      <td>08 28, 2013</td>\n",
       "      <td>77</td>\n",
       "    </tr>\n",
       "    <tr>\n",
       "      <td>3</td>\n",
       "      <td>A2C00NNG1ZQQG2</td>\n",
       "      <td>RustyBill \"Sunday Rocker\"</td>\n",
       "      <td>Nice windscreen protects my MXL mic and preven...</td>\n",
       "      <td>5.0</td>\n",
       "      <td>GOOD WINDSCREEN FOR THE MONEY</td>\n",
       "      <td>02 14, 2014</td>\n",
       "      <td>35</td>\n",
       "    </tr>\n",
       "    <tr>\n",
       "      <td>4</td>\n",
       "      <td>A94QU4C90B1AX</td>\n",
       "      <td>SEAN MASLANKA</td>\n",
       "      <td>This pop filter is great. It looks and perform...</td>\n",
       "      <td>5.0</td>\n",
       "      <td>No more pops when I record my vocals.</td>\n",
       "      <td>02 21, 2014</td>\n",
       "      <td>28</td>\n",
       "    </tr>\n",
       "  </tbody>\n",
       "</table>\n",
       "</div>"
      ],
      "text/plain": [
       "       reviewerID                                      reviewerName  \\\n",
       "0  A2IBPI20UZIR0U  cassandra tu \"Yeah, well, that's just like, u...   \n",
       "1  A14VAT5EAX3D9S                                              Jake   \n",
       "2  A195EZSQDW3E21                     Rick Bennette \"Rick Bennette\"   \n",
       "3  A2C00NNG1ZQQG2                         RustyBill \"Sunday Rocker\"   \n",
       "4   A94QU4C90B1AX                                     SEAN MASLANKA   \n",
       "\n",
       "                                          reviewText  overall  \\\n",
       "0  Not much to write about here, but it does exac...      5.0   \n",
       "1  The product does exactly as it should and is q...      5.0   \n",
       "2  The primary job of this device is to block the...      5.0   \n",
       "3  Nice windscreen protects my MXL mic and preven...      5.0   \n",
       "4  This pop filter is great. It looks and perform...      5.0   \n",
       "\n",
       "                                 summary   reviewTime  reviewWords  \n",
       "0                                   good  02 28, 2014           51  \n",
       "1                                   Jake  03 16, 2013          104  \n",
       "2                   It Does The Job Well  08 28, 2013           77  \n",
       "3          GOOD WINDSCREEN FOR THE MONEY  02 14, 2014           35  \n",
       "4  No more pops when I record my vocals.  02 21, 2014           28  "
      ]
     },
     "execution_count": 188,
     "metadata": {},
     "output_type": "execute_result"
    }
   ],
   "source": [
    "reviews.head()"
   ]
  },
  {
   "cell_type": "markdown",
   "metadata": {},
   "source": [
    "Before we get started on data cleaning, we can check out a few things about this DataFrame. This contains 500 reviews of a product on Amazon (a screen for a microphone to help with music recording), so with this analysis we can imagine we're trying to figure out whether people seem to like this product, or whether there are certain reasons why people give it negative reviews. \n",
    "\n",
    "We have several pieces of data on each review, stored in each column:\n",
    "* **reviewerID:** a unique ID for each Amazon user who reviewed this product\n",
    "* **reviewerName:** the username for each reviewer\n",
    "* **reviewText:** a string containing the text of the entire review\n",
    "* **overall:** the user's overall rating of the product on a scale from 1-5 stars\n",
    "* **summary:** the user's summary of their review\n",
    "* **reviewTime:** the date of the review [day month year]\n",
    "* **reviewWords:** the number of words in the user's entire review (i.e. number of words in the entry in the `reviewText` column)"
   ]
  },
  {
   "cell_type": "markdown",
   "metadata": {},
   "source": [
    "## 1. Selecting data in a DataFrame by columns and by rows\n",
    "\n",
    "Last class, we learned how to select specific cells of DataFrame objects using numeric indexing with `iloc()`, but often it is much more useful to be able to work with columns and rows in different ways. We'll learn a few of those here:"
   ]
  },
  {
   "cell_type": "markdown",
   "metadata": {},
   "source": [
    "### Selecting columns\n",
    "\n",
    "There are two methods that are useful for selecting certain columns in a DataFrame.\n",
    "\n",
    "**Method 1**\n",
    "\n",
    "The first is using brackets with the column labels inside. This method is really flexible, because we can either select just one column as a Pandas Series object\n",
    "\n",
    "`reviews['reviewerID']`\n",
    "\n",
    "Or, we can one or more columns as an entire DataFrame object by using two sets of brackets (so the column labels are a list object\n",
    "\n",
    "\n",
    "`reviews[['reviewerID']]`\n",
    "\n",
    "`reviews[['reviewerID', 'overall']]`\n",
    "\n",
    "**Method 2**\n",
    "\n",
    "The second method is using `.` to reference a column as an attribute of a DataFrame. This always only gets 1 column of the data frame as a Pandas Series:\n",
    "\n",
    "`reviews.reviewerID` (this is equivalent to `reviews['reviewerID']`)\n",
    "\n",
    "The only thing to be aware of for Method 2 is that you can't make *new* columns this way. Colummns referenced with the `.` have to already exist in the DataFrame"
   ]
  },
  {
   "cell_type": "markdown",
   "metadata": {},
   "source": [
    "**Mini-challenge:** \n",
    "1. Select the `overall` column of the `reviews` DataFrame, and save if to the variable 'overall_rating'. Then run `type()` to see what kind of object you get.\n",
    "2. Make a new DataFrame of the columns `overall` and `reviewWords` and save it into a variable called `df2`. Confirm that it is a DataFrame using `type()`"
   ]
  },
  {
   "cell_type": "markdown",
   "metadata": {},
   "source": [
    "**Solution:** \n"
   ]
  },
  {
   "cell_type": "code",
   "execution_count": 189,
   "metadata": {},
   "outputs": [
    {
     "data": {
      "text/plain": [
       "pandas.core.series.Series"
      ]
     },
     "execution_count": 189,
     "metadata": {},
     "output_type": "execute_result"
    }
   ],
   "source": [
    "# part 1\n",
    "overall_rating = reviews.overall\n",
    "type(overall_rating)"
   ]
  },
  {
   "cell_type": "code",
   "execution_count": 190,
   "metadata": {},
   "outputs": [
    {
     "data": {
      "text/plain": [
       "pandas.core.frame.DataFrame"
      ]
     },
     "execution_count": 190,
     "metadata": {},
     "output_type": "execute_result"
    }
   ],
   "source": [
    "# part 2\n",
    "df2 = reviews[['overall', 'reviewWords']]\n",
    "type(df2)"
   ]
  },
  {
   "cell_type": "markdown",
   "metadata": {},
   "source": [
    "One more quick trick is that you can also make a list of column names, and then use this list to create a DataFrame with only these columns, for example:"
   ]
  },
  {
   "cell_type": "code",
   "execution_count": 191,
   "metadata": {},
   "outputs": [
    {
     "data": {
      "text/html": [
       "<div>\n",
       "<style scoped>\n",
       "    .dataframe tbody tr th:only-of-type {\n",
       "        vertical-align: middle;\n",
       "    }\n",
       "\n",
       "    .dataframe tbody tr th {\n",
       "        vertical-align: top;\n",
       "    }\n",
       "\n",
       "    .dataframe thead th {\n",
       "        text-align: right;\n",
       "    }\n",
       "</style>\n",
       "<table border=\"1\" class=\"dataframe\">\n",
       "  <thead>\n",
       "    <tr style=\"text-align: right;\">\n",
       "      <th></th>\n",
       "      <th>overall</th>\n",
       "      <th>reviewText</th>\n",
       "      <th>summary</th>\n",
       "    </tr>\n",
       "  </thead>\n",
       "  <tbody>\n",
       "    <tr>\n",
       "      <td>0</td>\n",
       "      <td>5.0</td>\n",
       "      <td>Not much to write about here, but it does exac...</td>\n",
       "      <td>good</td>\n",
       "    </tr>\n",
       "    <tr>\n",
       "      <td>1</td>\n",
       "      <td>5.0</td>\n",
       "      <td>The product does exactly as it should and is q...</td>\n",
       "      <td>Jake</td>\n",
       "    </tr>\n",
       "    <tr>\n",
       "      <td>2</td>\n",
       "      <td>5.0</td>\n",
       "      <td>The primary job of this device is to block the...</td>\n",
       "      <td>It Does The Job Well</td>\n",
       "    </tr>\n",
       "    <tr>\n",
       "      <td>3</td>\n",
       "      <td>5.0</td>\n",
       "      <td>Nice windscreen protects my MXL mic and preven...</td>\n",
       "      <td>GOOD WINDSCREEN FOR THE MONEY</td>\n",
       "    </tr>\n",
       "    <tr>\n",
       "      <td>4</td>\n",
       "      <td>5.0</td>\n",
       "      <td>This pop filter is great. It looks and perform...</td>\n",
       "      <td>No more pops when I record my vocals.</td>\n",
       "    </tr>\n",
       "  </tbody>\n",
       "</table>\n",
       "</div>"
      ],
      "text/plain": [
       "   overall                                         reviewText  \\\n",
       "0      5.0  Not much to write about here, but it does exac...   \n",
       "1      5.0  The product does exactly as it should and is q...   \n",
       "2      5.0  The primary job of this device is to block the...   \n",
       "3      5.0  Nice windscreen protects my MXL mic and preven...   \n",
       "4      5.0  This pop filter is great. It looks and perform...   \n",
       "\n",
       "                                 summary  \n",
       "0                                   good  \n",
       "1                                   Jake  \n",
       "2                   It Does The Job Well  \n",
       "3          GOOD WINDSCREEN FOR THE MONEY  \n",
       "4  No more pops when I record my vocals.  "
      ]
     },
     "execution_count": 191,
     "metadata": {},
     "output_type": "execute_result"
    }
   ],
   "source": [
    "column_list = ['overall', 'reviewText', 'summary']\n",
    "df3 = reviews[column_list]\n",
    "df3.head()"
   ]
  },
  {
   "cell_type": "markdown",
   "metadata": {},
   "source": [
    "Because `column_list` in this example is already a list, we only need 1 set of brackets here to make a DataFrame with these specified columns"
   ]
  },
  {
   "cell_type": "markdown",
   "metadata": {},
   "source": [
    "### Selecting or 'filtering' rows (based on their content)\n",
    "\n",
    "So, we've learned how to select only certain columns from a DataFrame. Great! \n",
    "\n",
    "One other thing that might be really helpful is only selecting certain *rows*. We saw how to do that last time with `iloc()`, but what might often be more useful is only including rows that with data in them that *fit certain criteria*. Often, we might call this **filtering** the data.\n",
    "\n",
    "For example, when we're going through these product reviews, we might want to \n",
    "* filter the data for reviews that were longer than 50 words\n",
    "* filter the data for reviews in the year 2014"
   ]
  },
  {
   "cell_type": "markdown",
   "metadata": {},
   "source": [
    "Generally, we filter rows by applying a [conditional statement](https://www.python-course.eu/python3_conditional_statements.php#:~:text=statements%20in%20Python.-,Conditional%20statements%20in%20Python,should%20be%20executed%20or%20not.&text=The%20indented%20block%20is%20only,condition%20'condition'%20is%20True.) (a logical statement that can return `True` or `False` for each entry) related to a column of the DataFrame\n",
    "\n",
    "For example, one conditional statement to check if reviews are longer than 50 words could be:"
   ]
  },
  {
   "cell_type": "code",
   "execution_count": 192,
   "metadata": {},
   "outputs": [
    {
     "data": {
      "text/plain": [
       "0       True\n",
       "1       True\n",
       "2       True\n",
       "3      False\n",
       "4      False\n",
       "       ...  \n",
       "495    False\n",
       "496    False\n",
       "497     True\n",
       "498    False\n",
       "499    False\n",
       "Name: reviewWords, Length: 500, dtype: bool"
      ]
     },
     "execution_count": 192,
     "metadata": {},
     "output_type": "execute_result"
    }
   ],
   "source": [
    "reviews.reviewWords > 50"
   ]
  },
  {
   "cell_type": "markdown",
   "metadata": {},
   "source": [
    "If we do the conditional statement *by itself* like this, it returns a pandas Series full of `True` and `False` values. For each review, we get `True` if the condition is met (the review was longer than 50 words, or `reviewWords > 50`) and `False` if not.\n",
    "\n",
    "Now, the *fancy part* comes in when we use this Series of `True` and `False` values to select which rows of whole DataFrame we want. We can use this to take **only the rows of the DataFrame where the condition is met, where the value is `True`** with the following syntax:"
   ]
  },
  {
   "cell_type": "code",
   "execution_count": 193,
   "metadata": {},
   "outputs": [],
   "source": [
    "reviews_above_50_words = reviews[reviews.reviewWords > 50]"
   ]
  },
  {
   "cell_type": "markdown",
   "metadata": {},
   "source": [
    "This is a *bunch* of steps in one line of code, but to summarise, what this does is to apply a **condition** to the `reviewWords` column of the DataFrame, which only returns `True` if the numeric value for an entry in that column is above 50. Then, the bracket indexing selects *only* the rows with a value of `True` from `reviews`, and we save that into a new DataFrame object. Let's take a look to confirm that we're only getting rows where the review is over 50 words:"
   ]
  },
  {
   "cell_type": "code",
   "execution_count": 194,
   "metadata": {},
   "outputs": [
    {
     "data": {
      "text/html": [
       "<div>\n",
       "<style scoped>\n",
       "    .dataframe tbody tr th:only-of-type {\n",
       "        vertical-align: middle;\n",
       "    }\n",
       "\n",
       "    .dataframe tbody tr th {\n",
       "        vertical-align: top;\n",
       "    }\n",
       "\n",
       "    .dataframe thead th {\n",
       "        text-align: right;\n",
       "    }\n",
       "</style>\n",
       "<table border=\"1\" class=\"dataframe\">\n",
       "  <thead>\n",
       "    <tr style=\"text-align: right;\">\n",
       "      <th></th>\n",
       "      <th>reviewerID</th>\n",
       "      <th>reviewerName</th>\n",
       "      <th>reviewText</th>\n",
       "      <th>overall</th>\n",
       "      <th>summary</th>\n",
       "      <th>reviewTime</th>\n",
       "      <th>reviewWords</th>\n",
       "    </tr>\n",
       "  </thead>\n",
       "  <tbody>\n",
       "    <tr>\n",
       "      <td>0</td>\n",
       "      <td>A2IBPI20UZIR0U</td>\n",
       "      <td>cassandra tu \"Yeah, well, that's just like, u...</td>\n",
       "      <td>Not much to write about here, but it does exac...</td>\n",
       "      <td>5.0</td>\n",
       "      <td>good</td>\n",
       "      <td>02 28, 2014</td>\n",
       "      <td>51</td>\n",
       "    </tr>\n",
       "    <tr>\n",
       "      <td>1</td>\n",
       "      <td>A14VAT5EAX3D9S</td>\n",
       "      <td>Jake</td>\n",
       "      <td>The product does exactly as it should and is q...</td>\n",
       "      <td>5.0</td>\n",
       "      <td>Jake</td>\n",
       "      <td>03 16, 2013</td>\n",
       "      <td>104</td>\n",
       "    </tr>\n",
       "    <tr>\n",
       "      <td>2</td>\n",
       "      <td>A195EZSQDW3E21</td>\n",
       "      <td>Rick Bennette \"Rick Bennette\"</td>\n",
       "      <td>The primary job of this device is to block the...</td>\n",
       "      <td>5.0</td>\n",
       "      <td>It Does The Job Well</td>\n",
       "      <td>08 28, 2013</td>\n",
       "      <td>77</td>\n",
       "    </tr>\n",
       "    <tr>\n",
       "      <td>7</td>\n",
       "      <td>AJNFQI3YR6XJ5</td>\n",
       "      <td>Fender Guy \"Rick\"</td>\n",
       "      <td>I now use this cable to run from the output of...</td>\n",
       "      <td>3.0</td>\n",
       "      <td>Didn't fit my 1996 Fender Strat...</td>\n",
       "      <td>11 16, 2012</td>\n",
       "      <td>167</td>\n",
       "    </tr>\n",
       "    <tr>\n",
       "      <td>10</td>\n",
       "      <td>A2NYK9KWFMJV4Y</td>\n",
       "      <td>Mike Tarrani \"Jazz Drummer\"</td>\n",
       "      <td>Monster makes a wide array of cables, includin...</td>\n",
       "      <td>5.0</td>\n",
       "      <td>One of the best instrument cables within the b...</td>\n",
       "      <td>04 19, 2012</td>\n",
       "      <td>190</td>\n",
       "    </tr>\n",
       "  </tbody>\n",
       "</table>\n",
       "</div>"
      ],
      "text/plain": [
       "        reviewerID                                      reviewerName  \\\n",
       "0   A2IBPI20UZIR0U  cassandra tu \"Yeah, well, that's just like, u...   \n",
       "1   A14VAT5EAX3D9S                                              Jake   \n",
       "2   A195EZSQDW3E21                     Rick Bennette \"Rick Bennette\"   \n",
       "7    AJNFQI3YR6XJ5                                 Fender Guy \"Rick\"   \n",
       "10  A2NYK9KWFMJV4Y                       Mike Tarrani \"Jazz Drummer\"   \n",
       "\n",
       "                                           reviewText  overall  \\\n",
       "0   Not much to write about here, but it does exac...      5.0   \n",
       "1   The product does exactly as it should and is q...      5.0   \n",
       "2   The primary job of this device is to block the...      5.0   \n",
       "7   I now use this cable to run from the output of...      3.0   \n",
       "10  Monster makes a wide array of cables, includin...      5.0   \n",
       "\n",
       "                                              summary   reviewTime  \\\n",
       "0                                                good  02 28, 2014   \n",
       "1                                                Jake  03 16, 2013   \n",
       "2                                It Does The Job Well  08 28, 2013   \n",
       "7                  Didn't fit my 1996 Fender Strat...  11 16, 2012   \n",
       "10  One of the best instrument cables within the b...  04 19, 2012   \n",
       "\n",
       "    reviewWords  \n",
       "0            51  \n",
       "1           104  \n",
       "2            77  \n",
       "7           167  \n",
       "10          190  "
      ]
     },
     "execution_count": 194,
     "metadata": {},
     "output_type": "execute_result"
    }
   ],
   "source": [
    "reviews_above_50_words.head()"
   ]
  },
  {
   "cell_type": "markdown",
   "metadata": {},
   "source": [
    "**Mini-challenge:**\n",
    "\n",
    "In a similar way to what we just did, filter `reviews` to make a new DataFrame called `good_reviews` with only `overall` scores of 4 or higher."
   ]
  },
  {
   "cell_type": "markdown",
   "metadata": {},
   "source": [
    "**Solution**"
   ]
  },
  {
   "cell_type": "code",
   "execution_count": 195,
   "metadata": {},
   "outputs": [],
   "source": [
    "good_reviews = reviews[reviews.overall >= 4]"
   ]
  },
  {
   "cell_type": "markdown",
   "metadata": {},
   "source": [
    "We can use the describe() function to check that the minumum value in the overall column is a 4"
   ]
  },
  {
   "cell_type": "code",
   "execution_count": 196,
   "metadata": {},
   "outputs": [
    {
     "data": {
      "text/html": [
       "<div>\n",
       "<style scoped>\n",
       "    .dataframe tbody tr th:only-of-type {\n",
       "        vertical-align: middle;\n",
       "    }\n",
       "\n",
       "    .dataframe tbody tr th {\n",
       "        vertical-align: top;\n",
       "    }\n",
       "\n",
       "    .dataframe thead th {\n",
       "        text-align: right;\n",
       "    }\n",
       "</style>\n",
       "<table border=\"1\" class=\"dataframe\">\n",
       "  <thead>\n",
       "    <tr style=\"text-align: right;\">\n",
       "      <th></th>\n",
       "      <th>overall</th>\n",
       "      <th>reviewWords</th>\n",
       "    </tr>\n",
       "  </thead>\n",
       "  <tbody>\n",
       "    <tr>\n",
       "      <td>count</td>\n",
       "      <td>451.000000</td>\n",
       "      <td>451.000000</td>\n",
       "    </tr>\n",
       "    <tr>\n",
       "      <td>mean</td>\n",
       "      <td>4.725055</td>\n",
       "      <td>86.119734</td>\n",
       "    </tr>\n",
       "    <tr>\n",
       "      <td>std</td>\n",
       "      <td>0.446982</td>\n",
       "      <td>107.781997</td>\n",
       "    </tr>\n",
       "    <tr>\n",
       "      <td>min</td>\n",
       "      <td>4.000000</td>\n",
       "      <td>7.000000</td>\n",
       "    </tr>\n",
       "    <tr>\n",
       "      <td>25%</td>\n",
       "      <td>4.000000</td>\n",
       "      <td>30.000000</td>\n",
       "    </tr>\n",
       "    <tr>\n",
       "      <td>50%</td>\n",
       "      <td>5.000000</td>\n",
       "      <td>49.000000</td>\n",
       "    </tr>\n",
       "    <tr>\n",
       "      <td>75%</td>\n",
       "      <td>5.000000</td>\n",
       "      <td>90.500000</td>\n",
       "    </tr>\n",
       "    <tr>\n",
       "      <td>max</td>\n",
       "      <td>5.000000</td>\n",
       "      <td>915.000000</td>\n",
       "    </tr>\n",
       "  </tbody>\n",
       "</table>\n",
       "</div>"
      ],
      "text/plain": [
       "          overall  reviewWords\n",
       "count  451.000000   451.000000\n",
       "mean     4.725055    86.119734\n",
       "std      0.446982   107.781997\n",
       "min      4.000000     7.000000\n",
       "25%      4.000000    30.000000\n",
       "50%      5.000000    49.000000\n",
       "75%      5.000000    90.500000\n",
       "max      5.000000   915.000000"
      ]
     },
     "execution_count": 196,
     "metadata": {},
     "output_type": "execute_result"
    }
   ],
   "source": [
    "good_reviews.describe()"
   ]
  },
  {
   "cell_type": "markdown",
   "metadata": {},
   "source": [
    "## 2. Changing DataFrame column names\n",
    "\n",
    "To update the column names, we can use the [`rename()` function](https://pandas.pydata.org/pandas-docs/stable/reference/api/pandas.DataFrame.rename.html). To specify which columns we want to rename and what the new names should be, we add a `columns` argument in the form of a dictionary. In this dictionary object, each column name is formatted as `{'old name':'new name'}`\n",
    "\n",
    "So, if we wanted to change the `summary` column to be called `review_summary`:"
   ]
  },
  {
   "cell_type": "code",
   "execution_count": 197,
   "metadata": {},
   "outputs": [],
   "source": [
    "reviews.rename(columns = {'summary':'review_summary'}, inplace = True)"
   ]
  },
  {
   "cell_type": "markdown",
   "metadata": {},
   "source": [
    "Here, we also can add the `inplace = True` arguement so that the column is renamed 'inplace' and the DataFrame is modified without us having to assign it to a variable. The colum name is now changed:"
   ]
  },
  {
   "cell_type": "code",
   "execution_count": 198,
   "metadata": {},
   "outputs": [
    {
     "data": {
      "text/html": [
       "<div>\n",
       "<style scoped>\n",
       "    .dataframe tbody tr th:only-of-type {\n",
       "        vertical-align: middle;\n",
       "    }\n",
       "\n",
       "    .dataframe tbody tr th {\n",
       "        vertical-align: top;\n",
       "    }\n",
       "\n",
       "    .dataframe thead th {\n",
       "        text-align: right;\n",
       "    }\n",
       "</style>\n",
       "<table border=\"1\" class=\"dataframe\">\n",
       "  <thead>\n",
       "    <tr style=\"text-align: right;\">\n",
       "      <th></th>\n",
       "      <th>reviewerID</th>\n",
       "      <th>reviewerName</th>\n",
       "      <th>reviewText</th>\n",
       "      <th>overall</th>\n",
       "      <th>review_summary</th>\n",
       "      <th>reviewTime</th>\n",
       "      <th>reviewWords</th>\n",
       "    </tr>\n",
       "  </thead>\n",
       "  <tbody>\n",
       "    <tr>\n",
       "      <td>0</td>\n",
       "      <td>A2IBPI20UZIR0U</td>\n",
       "      <td>cassandra tu \"Yeah, well, that's just like, u...</td>\n",
       "      <td>Not much to write about here, but it does exac...</td>\n",
       "      <td>5.0</td>\n",
       "      <td>good</td>\n",
       "      <td>02 28, 2014</td>\n",
       "      <td>51</td>\n",
       "    </tr>\n",
       "    <tr>\n",
       "      <td>1</td>\n",
       "      <td>A14VAT5EAX3D9S</td>\n",
       "      <td>Jake</td>\n",
       "      <td>The product does exactly as it should and is q...</td>\n",
       "      <td>5.0</td>\n",
       "      <td>Jake</td>\n",
       "      <td>03 16, 2013</td>\n",
       "      <td>104</td>\n",
       "    </tr>\n",
       "    <tr>\n",
       "      <td>2</td>\n",
       "      <td>A195EZSQDW3E21</td>\n",
       "      <td>Rick Bennette \"Rick Bennette\"</td>\n",
       "      <td>The primary job of this device is to block the...</td>\n",
       "      <td>5.0</td>\n",
       "      <td>It Does The Job Well</td>\n",
       "      <td>08 28, 2013</td>\n",
       "      <td>77</td>\n",
       "    </tr>\n",
       "  </tbody>\n",
       "</table>\n",
       "</div>"
      ],
      "text/plain": [
       "       reviewerID                                      reviewerName  \\\n",
       "0  A2IBPI20UZIR0U  cassandra tu \"Yeah, well, that's just like, u...   \n",
       "1  A14VAT5EAX3D9S                                              Jake   \n",
       "2  A195EZSQDW3E21                     Rick Bennette \"Rick Bennette\"   \n",
       "\n",
       "                                          reviewText  overall  \\\n",
       "0  Not much to write about here, but it does exac...      5.0   \n",
       "1  The product does exactly as it should and is q...      5.0   \n",
       "2  The primary job of this device is to block the...      5.0   \n",
       "\n",
       "         review_summary   reviewTime  reviewWords  \n",
       "0                  good  02 28, 2014           51  \n",
       "1                  Jake  03 16, 2013          104  \n",
       "2  It Does The Job Well  08 28, 2013           77  "
      ]
     },
     "execution_count": 198,
     "metadata": {},
     "output_type": "execute_result"
    }
   ],
   "source": [
    "reviews.head(3)"
   ]
  },
  {
   "cell_type": "markdown",
   "metadata": {},
   "source": [
    "We can also change multiple columns at once with the same syntax:"
   ]
  },
  {
   "cell_type": "code",
   "execution_count": 199,
   "metadata": {},
   "outputs": [],
   "source": [
    "reviews.rename(columns = {'reviewerName':'username',\n",
    "                          'reviewerID': 'user_id'}, inplace = True)"
   ]
  },
  {
   "cell_type": "code",
   "execution_count": 200,
   "metadata": {},
   "outputs": [
    {
     "data": {
      "text/html": [
       "<div>\n",
       "<style scoped>\n",
       "    .dataframe tbody tr th:only-of-type {\n",
       "        vertical-align: middle;\n",
       "    }\n",
       "\n",
       "    .dataframe tbody tr th {\n",
       "        vertical-align: top;\n",
       "    }\n",
       "\n",
       "    .dataframe thead th {\n",
       "        text-align: right;\n",
       "    }\n",
       "</style>\n",
       "<table border=\"1\" class=\"dataframe\">\n",
       "  <thead>\n",
       "    <tr style=\"text-align: right;\">\n",
       "      <th></th>\n",
       "      <th>user_id</th>\n",
       "      <th>username</th>\n",
       "      <th>reviewText</th>\n",
       "      <th>overall</th>\n",
       "      <th>review_summary</th>\n",
       "      <th>reviewTime</th>\n",
       "      <th>reviewWords</th>\n",
       "    </tr>\n",
       "  </thead>\n",
       "  <tbody>\n",
       "    <tr>\n",
       "      <td>0</td>\n",
       "      <td>A2IBPI20UZIR0U</td>\n",
       "      <td>cassandra tu \"Yeah, well, that's just like, u...</td>\n",
       "      <td>Not much to write about here, but it does exac...</td>\n",
       "      <td>5.0</td>\n",
       "      <td>good</td>\n",
       "      <td>02 28, 2014</td>\n",
       "      <td>51</td>\n",
       "    </tr>\n",
       "    <tr>\n",
       "      <td>1</td>\n",
       "      <td>A14VAT5EAX3D9S</td>\n",
       "      <td>Jake</td>\n",
       "      <td>The product does exactly as it should and is q...</td>\n",
       "      <td>5.0</td>\n",
       "      <td>Jake</td>\n",
       "      <td>03 16, 2013</td>\n",
       "      <td>104</td>\n",
       "    </tr>\n",
       "    <tr>\n",
       "      <td>2</td>\n",
       "      <td>A195EZSQDW3E21</td>\n",
       "      <td>Rick Bennette \"Rick Bennette\"</td>\n",
       "      <td>The primary job of this device is to block the...</td>\n",
       "      <td>5.0</td>\n",
       "      <td>It Does The Job Well</td>\n",
       "      <td>08 28, 2013</td>\n",
       "      <td>77</td>\n",
       "    </tr>\n",
       "  </tbody>\n",
       "</table>\n",
       "</div>"
      ],
      "text/plain": [
       "          user_id                                          username  \\\n",
       "0  A2IBPI20UZIR0U  cassandra tu \"Yeah, well, that's just like, u...   \n",
       "1  A14VAT5EAX3D9S                                              Jake   \n",
       "2  A195EZSQDW3E21                     Rick Bennette \"Rick Bennette\"   \n",
       "\n",
       "                                          reviewText  overall  \\\n",
       "0  Not much to write about here, but it does exac...      5.0   \n",
       "1  The product does exactly as it should and is q...      5.0   \n",
       "2  The primary job of this device is to block the...      5.0   \n",
       "\n",
       "         review_summary   reviewTime  reviewWords  \n",
       "0                  good  02 28, 2014           51  \n",
       "1                  Jake  03 16, 2013          104  \n",
       "2  It Does The Job Well  08 28, 2013           77  "
      ]
     },
     "execution_count": 200,
     "metadata": {},
     "output_type": "execute_result"
    }
   ],
   "source": [
    "reviews.head(3)"
   ]
  },
  {
   "cell_type": "markdown",
   "metadata": {},
   "source": [
    "## 3. Adding and removing DataFrame columns\n",
    "\n",
    "Often we'll want to add new columns to our DataFrame to make new useful variables, or remove columns we're not using. Let's learn how to do both here!\n",
    "\n",
    "**Adding a new column**\n",
    "\n",
    "In general, we can add new columns using the `df['column_name']` syntax just as if we were working with existing columns. \n",
    "\n",
    "As an example, maybe we want to make a new column that indicates if a review was especially long (over 500 words) called `long_review`. "
   ]
  },
  {
   "cell_type": "code",
   "execution_count": 201,
   "metadata": {},
   "outputs": [],
   "source": [
    "reviews['long_review'] = reviews.reviewWords > 100"
   ]
  },
  {
   "cell_type": "markdown",
   "metadata": {},
   "source": [
    "We can also make columns where all of the values are exactly the same by assigning an integer, float, string, or boolean value to a column:"
   ]
  },
  {
   "cell_type": "code",
   "execution_count": 202,
   "metadata": {},
   "outputs": [],
   "source": [
    "# make a column indicating the name of the data analyst\n",
    "reviews['data_analyst'] = 'Paul Bloom'\n",
    "\n",
    "# make a column with all zeros\n",
    "reviews['zeros'] = 0"
   ]
  },
  {
   "cell_type": "markdown",
   "metadata": {},
   "source": [
    "Now we can check that those columns are there:"
   ]
  },
  {
   "cell_type": "code",
   "execution_count": 203,
   "metadata": {},
   "outputs": [
    {
     "data": {
      "text/html": [
       "<div>\n",
       "<style scoped>\n",
       "    .dataframe tbody tr th:only-of-type {\n",
       "        vertical-align: middle;\n",
       "    }\n",
       "\n",
       "    .dataframe tbody tr th {\n",
       "        vertical-align: top;\n",
       "    }\n",
       "\n",
       "    .dataframe thead th {\n",
       "        text-align: right;\n",
       "    }\n",
       "</style>\n",
       "<table border=\"1\" class=\"dataframe\">\n",
       "  <thead>\n",
       "    <tr style=\"text-align: right;\">\n",
       "      <th></th>\n",
       "      <th>user_id</th>\n",
       "      <th>username</th>\n",
       "      <th>reviewText</th>\n",
       "      <th>overall</th>\n",
       "      <th>review_summary</th>\n",
       "      <th>reviewTime</th>\n",
       "      <th>reviewWords</th>\n",
       "      <th>long_review</th>\n",
       "      <th>data_analyst</th>\n",
       "      <th>zeros</th>\n",
       "    </tr>\n",
       "  </thead>\n",
       "  <tbody>\n",
       "    <tr>\n",
       "      <td>0</td>\n",
       "      <td>A2IBPI20UZIR0U</td>\n",
       "      <td>cassandra tu \"Yeah, well, that's just like, u...</td>\n",
       "      <td>Not much to write about here, but it does exac...</td>\n",
       "      <td>5.0</td>\n",
       "      <td>good</td>\n",
       "      <td>02 28, 2014</td>\n",
       "      <td>51</td>\n",
       "      <td>False</td>\n",
       "      <td>Paul Bloom</td>\n",
       "      <td>0</td>\n",
       "    </tr>\n",
       "    <tr>\n",
       "      <td>1</td>\n",
       "      <td>A14VAT5EAX3D9S</td>\n",
       "      <td>Jake</td>\n",
       "      <td>The product does exactly as it should and is q...</td>\n",
       "      <td>5.0</td>\n",
       "      <td>Jake</td>\n",
       "      <td>03 16, 2013</td>\n",
       "      <td>104</td>\n",
       "      <td>True</td>\n",
       "      <td>Paul Bloom</td>\n",
       "      <td>0</td>\n",
       "    </tr>\n",
       "    <tr>\n",
       "      <td>2</td>\n",
       "      <td>A195EZSQDW3E21</td>\n",
       "      <td>Rick Bennette \"Rick Bennette\"</td>\n",
       "      <td>The primary job of this device is to block the...</td>\n",
       "      <td>5.0</td>\n",
       "      <td>It Does The Job Well</td>\n",
       "      <td>08 28, 2013</td>\n",
       "      <td>77</td>\n",
       "      <td>False</td>\n",
       "      <td>Paul Bloom</td>\n",
       "      <td>0</td>\n",
       "    </tr>\n",
       "  </tbody>\n",
       "</table>\n",
       "</div>"
      ],
      "text/plain": [
       "          user_id                                          username  \\\n",
       "0  A2IBPI20UZIR0U  cassandra tu \"Yeah, well, that's just like, u...   \n",
       "1  A14VAT5EAX3D9S                                              Jake   \n",
       "2  A195EZSQDW3E21                     Rick Bennette \"Rick Bennette\"   \n",
       "\n",
       "                                          reviewText  overall  \\\n",
       "0  Not much to write about here, but it does exac...      5.0   \n",
       "1  The product does exactly as it should and is q...      5.0   \n",
       "2  The primary job of this device is to block the...      5.0   \n",
       "\n",
       "         review_summary   reviewTime  reviewWords  long_review data_analyst  \\\n",
       "0                  good  02 28, 2014           51        False   Paul Bloom   \n",
       "1                  Jake  03 16, 2013          104         True   Paul Bloom   \n",
       "2  It Does The Job Well  08 28, 2013           77        False   Paul Bloom   \n",
       "\n",
       "   zeros  \n",
       "0      0  \n",
       "1      0  \n",
       "2      0  "
      ]
     },
     "execution_count": 203,
     "metadata": {},
     "output_type": "execute_result"
    }
   ],
   "source": [
    "reviews.head(3)"
   ]
  },
  {
   "cell_type": "markdown",
   "metadata": {},
   "source": [
    "**Removing Columns**\n",
    "\n",
    "We can remove columns using the `drop()` function as follows:"
   ]
  },
  {
   "cell_type": "code",
   "execution_count": 204,
   "metadata": {},
   "outputs": [],
   "source": [
    "reviews.drop(columns = ['data_analyst', 'zeros'], inplace = True)"
   ]
  },
  {
   "cell_type": "markdown",
   "metadata": {},
   "source": [
    "So here with `drop()`, we specify a `columns` argument as a list of the column names we want to remove. If we only wanted to drop one column, we could also use a list with just 1 element.\n",
    "\n",
    "You might wonder be wondering what `inplace = True` does. This argument saves the DataFrame with the columns dropped *back* into the original one, so we don't have to reassign it to a variable again. If we don't include this, we'd have to assign to a variable to save the changes.\n",
    "\n",
    "If you have a DataFrame with a LOT of columns and you want to get rid of most of them, it is often easier to select the columns you *do* want rather than the ones you *don't*. (see #1 for selecting columns)"
   ]
  },
  {
   "cell_type": "markdown",
   "metadata": {},
   "source": [
    "**Mini-challenge**\n",
    "\n",
    "* Add a column called 'my_name' to `reviews` with your name in each row\n",
    "* Add a column called 'my_integer' to `reviews` with the same integer in each row\n",
    "* Then, remove both columns uding `inplace = True`\n",
    "\n",
    "**Solution**"
   ]
  },
  {
   "cell_type": "code",
   "execution_count": 205,
   "metadata": {},
   "outputs": [
    {
     "data": {
      "text/html": [
       "<div>\n",
       "<style scoped>\n",
       "    .dataframe tbody tr th:only-of-type {\n",
       "        vertical-align: middle;\n",
       "    }\n",
       "\n",
       "    .dataframe tbody tr th {\n",
       "        vertical-align: top;\n",
       "    }\n",
       "\n",
       "    .dataframe thead th {\n",
       "        text-align: right;\n",
       "    }\n",
       "</style>\n",
       "<table border=\"1\" class=\"dataframe\">\n",
       "  <thead>\n",
       "    <tr style=\"text-align: right;\">\n",
       "      <th></th>\n",
       "      <th>user_id</th>\n",
       "      <th>username</th>\n",
       "      <th>reviewText</th>\n",
       "      <th>overall</th>\n",
       "      <th>review_summary</th>\n",
       "      <th>reviewTime</th>\n",
       "      <th>reviewWords</th>\n",
       "      <th>long_review</th>\n",
       "      <th>my_name</th>\n",
       "      <th>my_integer</th>\n",
       "    </tr>\n",
       "  </thead>\n",
       "  <tbody>\n",
       "    <tr>\n",
       "      <td>0</td>\n",
       "      <td>A2IBPI20UZIR0U</td>\n",
       "      <td>cassandra tu \"Yeah, well, that's just like, u...</td>\n",
       "      <td>Not much to write about here, but it does exac...</td>\n",
       "      <td>5.0</td>\n",
       "      <td>good</td>\n",
       "      <td>02 28, 2014</td>\n",
       "      <td>51</td>\n",
       "      <td>False</td>\n",
       "      <td>Paul Bloom</td>\n",
       "      <td>8</td>\n",
       "    </tr>\n",
       "    <tr>\n",
       "      <td>1</td>\n",
       "      <td>A14VAT5EAX3D9S</td>\n",
       "      <td>Jake</td>\n",
       "      <td>The product does exactly as it should and is q...</td>\n",
       "      <td>5.0</td>\n",
       "      <td>Jake</td>\n",
       "      <td>03 16, 2013</td>\n",
       "      <td>104</td>\n",
       "      <td>True</td>\n",
       "      <td>Paul Bloom</td>\n",
       "      <td>8</td>\n",
       "    </tr>\n",
       "  </tbody>\n",
       "</table>\n",
       "</div>"
      ],
      "text/plain": [
       "          user_id                                          username  \\\n",
       "0  A2IBPI20UZIR0U  cassandra tu \"Yeah, well, that's just like, u...   \n",
       "1  A14VAT5EAX3D9S                                              Jake   \n",
       "\n",
       "                                          reviewText  overall review_summary  \\\n",
       "0  Not much to write about here, but it does exac...      5.0           good   \n",
       "1  The product does exactly as it should and is q...      5.0           Jake   \n",
       "\n",
       "    reviewTime  reviewWords  long_review     my_name  my_integer  \n",
       "0  02 28, 2014           51        False  Paul Bloom           8  \n",
       "1  03 16, 2013          104         True  Paul Bloom           8  "
      ]
     },
     "execution_count": 205,
     "metadata": {},
     "output_type": "execute_result"
    }
   ],
   "source": [
    "# adding the columns\n",
    "reviews['my_name'] = 'Paul Bloom'\n",
    "reviews['my_integer'] = 8\n",
    "reviews.head(2)"
   ]
  },
  {
   "cell_type": "code",
   "execution_count": 206,
   "metadata": {},
   "outputs": [],
   "source": [
    "# drop the new columns\n",
    "reviews.drop(columns=['my_name', 'my_integer'], inplace = True)"
   ]
  },
  {
   "cell_type": "code",
   "execution_count": 207,
   "metadata": {},
   "outputs": [
    {
     "data": {
      "text/html": [
       "<div>\n",
       "<style scoped>\n",
       "    .dataframe tbody tr th:only-of-type {\n",
       "        vertical-align: middle;\n",
       "    }\n",
       "\n",
       "    .dataframe tbody tr th {\n",
       "        vertical-align: top;\n",
       "    }\n",
       "\n",
       "    .dataframe thead th {\n",
       "        text-align: right;\n",
       "    }\n",
       "</style>\n",
       "<table border=\"1\" class=\"dataframe\">\n",
       "  <thead>\n",
       "    <tr style=\"text-align: right;\">\n",
       "      <th></th>\n",
       "      <th>user_id</th>\n",
       "      <th>username</th>\n",
       "      <th>reviewText</th>\n",
       "      <th>overall</th>\n",
       "      <th>review_summary</th>\n",
       "      <th>reviewTime</th>\n",
       "      <th>reviewWords</th>\n",
       "      <th>long_review</th>\n",
       "    </tr>\n",
       "  </thead>\n",
       "  <tbody>\n",
       "    <tr>\n",
       "      <td>0</td>\n",
       "      <td>A2IBPI20UZIR0U</td>\n",
       "      <td>cassandra tu \"Yeah, well, that's just like, u...</td>\n",
       "      <td>Not much to write about here, but it does exac...</td>\n",
       "      <td>5.0</td>\n",
       "      <td>good</td>\n",
       "      <td>02 28, 2014</td>\n",
       "      <td>51</td>\n",
       "      <td>False</td>\n",
       "    </tr>\n",
       "    <tr>\n",
       "      <td>1</td>\n",
       "      <td>A14VAT5EAX3D9S</td>\n",
       "      <td>Jake</td>\n",
       "      <td>The product does exactly as it should and is q...</td>\n",
       "      <td>5.0</td>\n",
       "      <td>Jake</td>\n",
       "      <td>03 16, 2013</td>\n",
       "      <td>104</td>\n",
       "      <td>True</td>\n",
       "    </tr>\n",
       "  </tbody>\n",
       "</table>\n",
       "</div>"
      ],
      "text/plain": [
       "          user_id                                          username  \\\n",
       "0  A2IBPI20UZIR0U  cassandra tu \"Yeah, well, that's just like, u...   \n",
       "1  A14VAT5EAX3D9S                                              Jake   \n",
       "\n",
       "                                          reviewText  overall review_summary  \\\n",
       "0  Not much to write about here, but it does exac...      5.0           good   \n",
       "1  The product does exactly as it should and is q...      5.0           Jake   \n",
       "\n",
       "    reviewTime  reviewWords  long_review  \n",
       "0  02 28, 2014           51        False  \n",
       "1  03 16, 2013          104         True  "
      ]
     },
     "execution_count": 207,
     "metadata": {},
     "output_type": "execute_result"
    }
   ],
   "source": [
    "reviews.head(2)"
   ]
  },
  {
   "cell_type": "markdown",
   "metadata": {},
   "source": [
    "## 4. Finding & dealing with missing data\n",
    "\n",
    "Often the data we're working with has missing values we'll need to deal with before analysis or graphing. \n",
    "\n",
    "One way to check for these values in the entire DataFrame is with the `isnull()` function. For example, if we call this on the entire dataframe, the function returns a DataFrame where each cell is `True` if that same cell in the original dataframe contained a null (or missing) value, and `False` if there was data in that cell."
   ]
  },
  {
   "cell_type": "code",
   "execution_count": 208,
   "metadata": {},
   "outputs": [
    {
     "data": {
      "text/html": [
       "<div>\n",
       "<style scoped>\n",
       "    .dataframe tbody tr th:only-of-type {\n",
       "        vertical-align: middle;\n",
       "    }\n",
       "\n",
       "    .dataframe tbody tr th {\n",
       "        vertical-align: top;\n",
       "    }\n",
       "\n",
       "    .dataframe thead th {\n",
       "        text-align: right;\n",
       "    }\n",
       "</style>\n",
       "<table border=\"1\" class=\"dataframe\">\n",
       "  <thead>\n",
       "    <tr style=\"text-align: right;\">\n",
       "      <th></th>\n",
       "      <th>user_id</th>\n",
       "      <th>username</th>\n",
       "      <th>reviewText</th>\n",
       "      <th>overall</th>\n",
       "      <th>review_summary</th>\n",
       "      <th>reviewTime</th>\n",
       "      <th>reviewWords</th>\n",
       "      <th>long_review</th>\n",
       "    </tr>\n",
       "  </thead>\n",
       "  <tbody>\n",
       "    <tr>\n",
       "      <td>0</td>\n",
       "      <td>False</td>\n",
       "      <td>False</td>\n",
       "      <td>False</td>\n",
       "      <td>False</td>\n",
       "      <td>False</td>\n",
       "      <td>False</td>\n",
       "      <td>False</td>\n",
       "      <td>False</td>\n",
       "    </tr>\n",
       "    <tr>\n",
       "      <td>1</td>\n",
       "      <td>False</td>\n",
       "      <td>False</td>\n",
       "      <td>False</td>\n",
       "      <td>False</td>\n",
       "      <td>False</td>\n",
       "      <td>False</td>\n",
       "      <td>False</td>\n",
       "      <td>False</td>\n",
       "    </tr>\n",
       "    <tr>\n",
       "      <td>2</td>\n",
       "      <td>False</td>\n",
       "      <td>False</td>\n",
       "      <td>False</td>\n",
       "      <td>False</td>\n",
       "      <td>False</td>\n",
       "      <td>False</td>\n",
       "      <td>False</td>\n",
       "      <td>False</td>\n",
       "    </tr>\n",
       "    <tr>\n",
       "      <td>3</td>\n",
       "      <td>False</td>\n",
       "      <td>False</td>\n",
       "      <td>False</td>\n",
       "      <td>False</td>\n",
       "      <td>False</td>\n",
       "      <td>False</td>\n",
       "      <td>False</td>\n",
       "      <td>False</td>\n",
       "    </tr>\n",
       "    <tr>\n",
       "      <td>4</td>\n",
       "      <td>False</td>\n",
       "      <td>False</td>\n",
       "      <td>False</td>\n",
       "      <td>False</td>\n",
       "      <td>False</td>\n",
       "      <td>False</td>\n",
       "      <td>False</td>\n",
       "      <td>False</td>\n",
       "    </tr>\n",
       "    <tr>\n",
       "      <td>...</td>\n",
       "      <td>...</td>\n",
       "      <td>...</td>\n",
       "      <td>...</td>\n",
       "      <td>...</td>\n",
       "      <td>...</td>\n",
       "      <td>...</td>\n",
       "      <td>...</td>\n",
       "      <td>...</td>\n",
       "    </tr>\n",
       "    <tr>\n",
       "      <td>495</td>\n",
       "      <td>False</td>\n",
       "      <td>False</td>\n",
       "      <td>False</td>\n",
       "      <td>False</td>\n",
       "      <td>False</td>\n",
       "      <td>False</td>\n",
       "      <td>False</td>\n",
       "      <td>False</td>\n",
       "    </tr>\n",
       "    <tr>\n",
       "      <td>496</td>\n",
       "      <td>False</td>\n",
       "      <td>False</td>\n",
       "      <td>False</td>\n",
       "      <td>False</td>\n",
       "      <td>False</td>\n",
       "      <td>False</td>\n",
       "      <td>False</td>\n",
       "      <td>False</td>\n",
       "    </tr>\n",
       "    <tr>\n",
       "      <td>497</td>\n",
       "      <td>False</td>\n",
       "      <td>False</td>\n",
       "      <td>False</td>\n",
       "      <td>False</td>\n",
       "      <td>False</td>\n",
       "      <td>False</td>\n",
       "      <td>False</td>\n",
       "      <td>False</td>\n",
       "    </tr>\n",
       "    <tr>\n",
       "      <td>498</td>\n",
       "      <td>False</td>\n",
       "      <td>False</td>\n",
       "      <td>False</td>\n",
       "      <td>False</td>\n",
       "      <td>False</td>\n",
       "      <td>False</td>\n",
       "      <td>False</td>\n",
       "      <td>False</td>\n",
       "    </tr>\n",
       "    <tr>\n",
       "      <td>499</td>\n",
       "      <td>False</td>\n",
       "      <td>False</td>\n",
       "      <td>False</td>\n",
       "      <td>False</td>\n",
       "      <td>False</td>\n",
       "      <td>False</td>\n",
       "      <td>False</td>\n",
       "      <td>False</td>\n",
       "    </tr>\n",
       "  </tbody>\n",
       "</table>\n",
       "<p>500 rows × 8 columns</p>\n",
       "</div>"
      ],
      "text/plain": [
       "     user_id  username  reviewText  overall  review_summary  reviewTime  \\\n",
       "0      False     False       False    False           False       False   \n",
       "1      False     False       False    False           False       False   \n",
       "2      False     False       False    False           False       False   \n",
       "3      False     False       False    False           False       False   \n",
       "4      False     False       False    False           False       False   \n",
       "..       ...       ...         ...      ...             ...         ...   \n",
       "495    False     False       False    False           False       False   \n",
       "496    False     False       False    False           False       False   \n",
       "497    False     False       False    False           False       False   \n",
       "498    False     False       False    False           False       False   \n",
       "499    False     False       False    False           False       False   \n",
       "\n",
       "     reviewWords  long_review  \n",
       "0          False        False  \n",
       "1          False        False  \n",
       "2          False        False  \n",
       "3          False        False  \n",
       "4          False        False  \n",
       "..           ...          ...  \n",
       "495        False        False  \n",
       "496        False        False  \n",
       "497        False        False  \n",
       "498        False        False  \n",
       "499        False        False  \n",
       "\n",
       "[500 rows x 8 columns]"
      ]
     },
     "execution_count": 208,
     "metadata": {},
     "output_type": "execute_result"
    }
   ],
   "source": [
    "reviews.isnull()"
   ]
  },
  {
   "cell_type": "markdown",
   "metadata": {},
   "source": [
    "This might be hard to read by itself, but then if we combine this with the `sum()` function, we can get a quick summary of how many missing values are in each column:"
   ]
  },
  {
   "cell_type": "code",
   "execution_count": 209,
   "metadata": {},
   "outputs": [
    {
     "data": {
      "text/plain": [
       "user_id           0\n",
       "username          4\n",
       "reviewText        0\n",
       "overall           4\n",
       "review_summary    3\n",
       "reviewTime        0\n",
       "reviewWords       0\n",
       "long_review       0\n",
       "dtype: int64"
      ]
     },
     "execution_count": 209,
     "metadata": {},
     "output_type": "execute_result"
    }
   ],
   "source": [
    "reviews.isnull().sum()"
   ]
  },
  {
   "cell_type": "markdown",
   "metadata": {},
   "source": [
    "Here we can see that the `username` and `overall` columns are both missing 4 values, and `review_summary` is missing 3\n",
    "\n",
    "But, what if we wanted to actually check out what's going on in the rows missing data? For this, we can use the same process we used earlier to *select rows*, but here, we can select the rows where a certain column contains missing values. For example, let's select only the rows where `overall` is null:"
   ]
  },
  {
   "cell_type": "code",
   "execution_count": 210,
   "metadata": {},
   "outputs": [
    {
     "data": {
      "text/html": [
       "<div>\n",
       "<style scoped>\n",
       "    .dataframe tbody tr th:only-of-type {\n",
       "        vertical-align: middle;\n",
       "    }\n",
       "\n",
       "    .dataframe tbody tr th {\n",
       "        vertical-align: top;\n",
       "    }\n",
       "\n",
       "    .dataframe thead th {\n",
       "        text-align: right;\n",
       "    }\n",
       "</style>\n",
       "<table border=\"1\" class=\"dataframe\">\n",
       "  <thead>\n",
       "    <tr style=\"text-align: right;\">\n",
       "      <th></th>\n",
       "      <th>user_id</th>\n",
       "      <th>username</th>\n",
       "      <th>reviewText</th>\n",
       "      <th>overall</th>\n",
       "      <th>review_summary</th>\n",
       "      <th>reviewTime</th>\n",
       "      <th>reviewWords</th>\n",
       "      <th>long_review</th>\n",
       "    </tr>\n",
       "  </thead>\n",
       "  <tbody>\n",
       "    <tr>\n",
       "      <td>137</td>\n",
       "      <td>AFLRU6952DEFX</td>\n",
       "      <td>S.</td>\n",
       "      <td>These have a lower profile and can fit and ben...</td>\n",
       "      <td>NaN</td>\n",
       "      <td>Possibly better than the metal ended ones</td>\n",
       "      <td>06 24, 2014</td>\n",
       "      <td>20</td>\n",
       "      <td>False</td>\n",
       "    </tr>\n",
       "    <tr>\n",
       "      <td>140</td>\n",
       "      <td>AQFOCVEBDCYU9</td>\n",
       "      <td>Jazzgryl52</td>\n",
       "      <td>I purchased this to work with my ION system an...</td>\n",
       "      <td>NaN</td>\n",
       "      <td>No problems</td>\n",
       "      <td>07 31, 2013</td>\n",
       "      <td>22</td>\n",
       "      <td>False</td>\n",
       "    </tr>\n",
       "    <tr>\n",
       "      <td>245</td>\n",
       "      <td>A37AQI4AU3JWSR</td>\n",
       "      <td>Joshua</td>\n",
       "      <td>Donr be fooled by the imitations... should be ...</td>\n",
       "      <td>NaN</td>\n",
       "      <td>Best rack screws for your money.</td>\n",
       "      <td>12 18, 2012</td>\n",
       "      <td>28</td>\n",
       "      <td>False</td>\n",
       "    </tr>\n",
       "    <tr>\n",
       "      <td>246</td>\n",
       "      <td>AUK79PXTAOJP9</td>\n",
       "      <td>~ Kyle</td>\n",
       "      <td>Great rack mount screws. Rubber washers are pe...</td>\n",
       "      <td>NaN</td>\n",
       "      <td>Great</td>\n",
       "      <td>07 8, 2013</td>\n",
       "      <td>44</td>\n",
       "      <td>False</td>\n",
       "    </tr>\n",
       "  </tbody>\n",
       "</table>\n",
       "</div>"
      ],
      "text/plain": [
       "            user_id    username  \\\n",
       "137   AFLRU6952DEFX          S.   \n",
       "140   AQFOCVEBDCYU9  Jazzgryl52   \n",
       "245  A37AQI4AU3JWSR      Joshua   \n",
       "246   AUK79PXTAOJP9      ~ Kyle   \n",
       "\n",
       "                                            reviewText  overall  \\\n",
       "137  These have a lower profile and can fit and ben...      NaN   \n",
       "140  I purchased this to work with my ION system an...      NaN   \n",
       "245  Donr be fooled by the imitations... should be ...      NaN   \n",
       "246  Great rack mount screws. Rubber washers are pe...      NaN   \n",
       "\n",
       "                                review_summary   reviewTime  reviewWords  \\\n",
       "137  Possibly better than the metal ended ones  06 24, 2014           20   \n",
       "140                                No problems  07 31, 2013           22   \n",
       "245           Best rack screws for your money.  12 18, 2012           28   \n",
       "246                                      Great   07 8, 2013           44   \n",
       "\n",
       "     long_review  \n",
       "137        False  \n",
       "140        False  \n",
       "245        False  \n",
       "246        False  "
      ]
     },
     "execution_count": 210,
     "metadata": {},
     "output_type": "execute_result"
    }
   ],
   "source": [
    "# This is the same process as in section 1! Inside the brackets is a conditional argument\n",
    "# The code inside the brackets gives True for every null value in the column `overall` and false otherwise\n",
    "# Then we filter the whole DataFrame for only the rows where this returned True\n",
    "reviews[reviews.overall.isnull()]"
   ]
  },
  {
   "cell_type": "markdown",
   "metadata": {},
   "source": [
    "**Removing missing values**\n",
    "\n",
    "A lot of the time we might want to remove rows where a certain column is missing data. This will often show up as `NaN`, which stands for 'not a number'. \n",
    "\n",
    "Here, we can't really do much without the `overall` ratings of the product, so we'll remove the 4 rows with NaNs in this column. We can do this by putting a minus sign in front of the `reviews.overal.isnull()` which will return True for all **non-null** rows. Then, we select only those, and save into a new DataFrame called `reviews_no_null_ratings`"
   ]
  },
  {
   "cell_type": "code",
   "execution_count": 211,
   "metadata": {},
   "outputs": [],
   "source": [
    "reviews_no_null_ratings = reviews[-reviews.overall.isnull()]"
   ]
  },
  {
   "cell_type": "markdown",
   "metadata": {},
   "source": [
    "Now, this new DataFrame has no nulls in the `overall` column, and we can see it is 4 rows smaller than before (only 496 columns now)"
   ]
  },
  {
   "cell_type": "code",
   "execution_count": 212,
   "metadata": {},
   "outputs": [
    {
     "name": "stdout",
     "output_type": "stream",
     "text": [
      "user_id           0\n",
      "username          4\n",
      "reviewText        0\n",
      "overall           0\n",
      "review_summary    3\n",
      "reviewTime        0\n",
      "reviewWords       0\n",
      "long_review       0\n",
      "dtype: int64\n",
      "(496, 8)\n"
     ]
    }
   ],
   "source": [
    "print(reviews_no_null_ratings.isnull().sum())\n",
    "print(reviews_no_null_ratings.shape)"
   ]
  },
  {
   "cell_type": "markdown",
   "metadata": {},
   "source": [
    "**Replacing Missing Values**\n",
    "\n",
    "Instead of removing data, sometimes we might want to replace it with something meaningful. \n",
    "\n",
    "Here, we want to replace the NaN values in the `username` column with the username 'unknown user'. First, we can take a look at these:"
   ]
  },
  {
   "cell_type": "code",
   "execution_count": 213,
   "metadata": {},
   "outputs": [
    {
     "data": {
      "text/html": [
       "<div>\n",
       "<style scoped>\n",
       "    .dataframe tbody tr th:only-of-type {\n",
       "        vertical-align: middle;\n",
       "    }\n",
       "\n",
       "    .dataframe tbody tr th {\n",
       "        vertical-align: top;\n",
       "    }\n",
       "\n",
       "    .dataframe thead th {\n",
       "        text-align: right;\n",
       "    }\n",
       "</style>\n",
       "<table border=\"1\" class=\"dataframe\">\n",
       "  <thead>\n",
       "    <tr style=\"text-align: right;\">\n",
       "      <th></th>\n",
       "      <th>user_id</th>\n",
       "      <th>username</th>\n",
       "      <th>reviewText</th>\n",
       "      <th>overall</th>\n",
       "      <th>review_summary</th>\n",
       "      <th>reviewTime</th>\n",
       "      <th>reviewWords</th>\n",
       "      <th>long_review</th>\n",
       "    </tr>\n",
       "  </thead>\n",
       "  <tbody>\n",
       "    <tr>\n",
       "      <td>41</td>\n",
       "      <td>AA5TINW2RJ195</td>\n",
       "      <td>NaN</td>\n",
       "      <td>Good quality cable and sounds very good</td>\n",
       "      <td>5.0</td>\n",
       "      <td>Five Stars</td>\n",
       "      <td>07 15, 2014</td>\n",
       "      <td>7</td>\n",
       "      <td>False</td>\n",
       "    </tr>\n",
       "    <tr>\n",
       "      <td>263</td>\n",
       "      <td>A14VAT5EAX3D9S</td>\n",
       "      <td>NaN</td>\n",
       "      <td>It is exactly what you need in a capo! You can...</td>\n",
       "      <td>5.0</td>\n",
       "      <td>Great</td>\n",
       "      <td>04 2, 2013</td>\n",
       "      <td>82</td>\n",
       "      <td>False</td>\n",
       "    </tr>\n",
       "    <tr>\n",
       "      <td>264</td>\n",
       "      <td>A2RVY2GDMZHH4</td>\n",
       "      <td>NaN</td>\n",
       "      <td>Love these capos and nice that you can get the...</td>\n",
       "      <td>5.0</td>\n",
       "      <td>Always great Kyser</td>\n",
       "      <td>12 28, 2012</td>\n",
       "      <td>23</td>\n",
       "      <td>False</td>\n",
       "    </tr>\n",
       "    <tr>\n",
       "      <td>432</td>\n",
       "      <td>A3BMYEA3J6RBVV</td>\n",
       "      <td>NaN</td>\n",
       "      <td>Bought it as a gift. Friend loved it very much.</td>\n",
       "      <td>5.0</td>\n",
       "      <td>Friend loved it very much</td>\n",
       "      <td>07 13, 2014</td>\n",
       "      <td>10</td>\n",
       "      <td>False</td>\n",
       "    </tr>\n",
       "  </tbody>\n",
       "</table>\n",
       "</div>"
      ],
      "text/plain": [
       "            user_id username  \\\n",
       "41    AA5TINW2RJ195      NaN   \n",
       "263  A14VAT5EAX3D9S      NaN   \n",
       "264   A2RVY2GDMZHH4      NaN   \n",
       "432  A3BMYEA3J6RBVV      NaN   \n",
       "\n",
       "                                            reviewText  overall  \\\n",
       "41             Good quality cable and sounds very good      5.0   \n",
       "263  It is exactly what you need in a capo! You can...      5.0   \n",
       "264  Love these capos and nice that you can get the...      5.0   \n",
       "432    Bought it as a gift. Friend loved it very much.      5.0   \n",
       "\n",
       "                review_summary   reviewTime  reviewWords  long_review  \n",
       "41                  Five Stars  07 15, 2014            7        False  \n",
       "263                      Great   04 2, 2013           82        False  \n",
       "264         Always great Kyser  12 28, 2012           23        False  \n",
       "432  Friend loved it very much  07 13, 2014           10        False  "
      ]
     },
     "execution_count": 213,
     "metadata": {},
     "output_type": "execute_result"
    }
   ],
   "source": [
    "reviews[reviews.username.isnull()]"
   ]
  },
  {
   "cell_type": "markdown",
   "metadata": {},
   "source": [
    "Now, we use these to reassign values to `reviews.username` "
   ]
  },
  {
   "cell_type": "code",
   "execution_count": 227,
   "metadata": {},
   "outputs": [
    {
     "name": "stderr",
     "output_type": "stream",
     "text": [
      "/Users/paul/anaconda3/lib/python3.7/site-packages/ipykernel_launcher.py:1: SettingWithCopyWarning: \n",
      "A value is trying to be set on a copy of a slice from a DataFrame\n",
      "\n",
      "See the caveats in the documentation: http://pandas.pydata.org/pandas-docs/stable/user_guide/indexing.html#returning-a-view-versus-a-copy\n",
      "  \"\"\"Entry point for launching an IPython kernel.\n"
     ]
    }
   ],
   "source": [
    "reviews.username[reviews.username.isnull()] = 'unknown user'"
   ]
  },
  {
   "cell_type": "markdown",
   "metadata": {},
   "source": [
    "Now if we look for nulls in this column, there aren't any:"
   ]
  },
  {
   "cell_type": "code",
   "execution_count": 224,
   "metadata": {},
   "outputs": [
    {
     "data": {
      "text/html": [
       "<div>\n",
       "<style scoped>\n",
       "    .dataframe tbody tr th:only-of-type {\n",
       "        vertical-align: middle;\n",
       "    }\n",
       "\n",
       "    .dataframe tbody tr th {\n",
       "        vertical-align: top;\n",
       "    }\n",
       "\n",
       "    .dataframe thead th {\n",
       "        text-align: right;\n",
       "    }\n",
       "</style>\n",
       "<table border=\"1\" class=\"dataframe\">\n",
       "  <thead>\n",
       "    <tr style=\"text-align: right;\">\n",
       "      <th></th>\n",
       "      <th>user_id</th>\n",
       "      <th>username</th>\n",
       "      <th>reviewText</th>\n",
       "      <th>overall</th>\n",
       "      <th>review_summary</th>\n",
       "      <th>reviewTime</th>\n",
       "      <th>reviewWords</th>\n",
       "      <th>long_review</th>\n",
       "    </tr>\n",
       "  </thead>\n",
       "  <tbody>\n",
       "  </tbody>\n",
       "</table>\n",
       "</div>"
      ],
      "text/plain": [
       "Empty DataFrame\n",
       "Columns: [user_id, username, reviewText, overall, review_summary, reviewTime, reviewWords, long_review]\n",
       "Index: []"
      ]
     },
     "execution_count": 224,
     "metadata": {},
     "output_type": "execute_result"
    }
   ],
   "source": [
    "# returns no data!\n",
    "reviews[reviews.username.isnull()]"
   ]
  },
  {
   "cell_type": "markdown",
   "metadata": {},
   "source": [
    "But, if we look for values of 'unknown user' in this column, we find them where the NaNs used to be "
   ]
  },
  {
   "cell_type": "code",
   "execution_count": 225,
   "metadata": {},
   "outputs": [
    {
     "data": {
      "text/html": [
       "<div>\n",
       "<style scoped>\n",
       "    .dataframe tbody tr th:only-of-type {\n",
       "        vertical-align: middle;\n",
       "    }\n",
       "\n",
       "    .dataframe tbody tr th {\n",
       "        vertical-align: top;\n",
       "    }\n",
       "\n",
       "    .dataframe thead th {\n",
       "        text-align: right;\n",
       "    }\n",
       "</style>\n",
       "<table border=\"1\" class=\"dataframe\">\n",
       "  <thead>\n",
       "    <tr style=\"text-align: right;\">\n",
       "      <th></th>\n",
       "      <th>user_id</th>\n",
       "      <th>username</th>\n",
       "      <th>reviewText</th>\n",
       "      <th>overall</th>\n",
       "      <th>review_summary</th>\n",
       "      <th>reviewTime</th>\n",
       "      <th>reviewWords</th>\n",
       "      <th>long_review</th>\n",
       "    </tr>\n",
       "  </thead>\n",
       "  <tbody>\n",
       "    <tr>\n",
       "      <td>41</td>\n",
       "      <td>AA5TINW2RJ195</td>\n",
       "      <td>unknown user</td>\n",
       "      <td>Good quality cable and sounds very good</td>\n",
       "      <td>5.0</td>\n",
       "      <td>Five Stars</td>\n",
       "      <td>07 15, 2014</td>\n",
       "      <td>7</td>\n",
       "      <td>False</td>\n",
       "    </tr>\n",
       "    <tr>\n",
       "      <td>263</td>\n",
       "      <td>A14VAT5EAX3D9S</td>\n",
       "      <td>unknown user</td>\n",
       "      <td>It is exactly what you need in a capo! You can...</td>\n",
       "      <td>5.0</td>\n",
       "      <td>Great</td>\n",
       "      <td>04 2, 2013</td>\n",
       "      <td>82</td>\n",
       "      <td>False</td>\n",
       "    </tr>\n",
       "    <tr>\n",
       "      <td>264</td>\n",
       "      <td>A2RVY2GDMZHH4</td>\n",
       "      <td>unknown user</td>\n",
       "      <td>Love these capos and nice that you can get the...</td>\n",
       "      <td>5.0</td>\n",
       "      <td>Always great Kyser</td>\n",
       "      <td>12 28, 2012</td>\n",
       "      <td>23</td>\n",
       "      <td>False</td>\n",
       "    </tr>\n",
       "    <tr>\n",
       "      <td>432</td>\n",
       "      <td>A3BMYEA3J6RBVV</td>\n",
       "      <td>unknown user</td>\n",
       "      <td>Bought it as a gift. Friend loved it very much.</td>\n",
       "      <td>5.0</td>\n",
       "      <td>Friend loved it very much</td>\n",
       "      <td>07 13, 2014</td>\n",
       "      <td>10</td>\n",
       "      <td>False</td>\n",
       "    </tr>\n",
       "  </tbody>\n",
       "</table>\n",
       "</div>"
      ],
      "text/plain": [
       "            user_id      username  \\\n",
       "41    AA5TINW2RJ195  unknown user   \n",
       "263  A14VAT5EAX3D9S  unknown user   \n",
       "264   A2RVY2GDMZHH4  unknown user   \n",
       "432  A3BMYEA3J6RBVV  unknown user   \n",
       "\n",
       "                                            reviewText  overall  \\\n",
       "41             Good quality cable and sounds very good      5.0   \n",
       "263  It is exactly what you need in a capo! You can...      5.0   \n",
       "264  Love these capos and nice that you can get the...      5.0   \n",
       "432    Bought it as a gift. Friend loved it very much.      5.0   \n",
       "\n",
       "                review_summary   reviewTime  reviewWords  long_review  \n",
       "41                  Five Stars  07 15, 2014            7        False  \n",
       "263                      Great   04 2, 2013           82        False  \n",
       "264         Always great Kyser  12 28, 2012           23        False  \n",
       "432  Friend loved it very much  07 13, 2014           10        False  "
      ]
     },
     "execution_count": 225,
     "metadata": {},
     "output_type": "execute_result"
    }
   ],
   "source": [
    "reviews[reviews.username == 'unknown user']"
   ]
  },
  {
   "cell_type": "markdown",
   "metadata": {},
   "source": [
    "**Removing ALL missing values**\n",
    "\n",
    "So far we've been targeting missing values in each column one-by-one. But, what if we wanted to remove ALL the missing data from the DataFrame in one step? We can use the `dropna()` function for this!\n",
    "\n",
    "If we want to remove each *row* that has any missing values, we can run as follows:"
   ]
  },
  {
   "cell_type": "code",
   "execution_count": 231,
   "metadata": {},
   "outputs": [],
   "source": [
    "reviews_clean = reviews.dropna(axis = 0)"
   ]
  },
  {
   "cell_type": "markdown",
   "metadata": {},
   "source": [
    "Here `axis = 0` specifies that we removing rows (because rows are axis 0 and columns are axis 1)"
   ]
  },
  {
   "cell_type": "code",
   "execution_count": 232,
   "metadata": {},
   "outputs": [
    {
     "data": {
      "text/plain": [
       "user_id           0\n",
       "username          0\n",
       "reviewText        0\n",
       "overall           0\n",
       "review_summary    0\n",
       "reviewTime        0\n",
       "reviewWords       0\n",
       "long_review       0\n",
       "dtype: int64"
      ]
     },
     "execution_count": 232,
     "metadata": {},
     "output_type": "execute_result"
    }
   ],
   "source": [
    "reviews_clean.isnull().sum()"
   ]
  },
  {
   "cell_type": "markdown",
   "metadata": {},
   "source": [
    "## Topic 2\n",
    "\n",
    "\n",
    "Here is a great sentence with some text for the lesson, as well as inline code like `print('hello world)` or `git status`"
   ]
  },
  {
   "cell_type": "markdown",
   "metadata": {},
   "source": [
    "# Challenge"
   ]
  },
  {
   "cell_type": "markdown",
   "metadata": {},
   "source": [
    "For this challenge in this class, make an awesome python function!"
   ]
  }
 ],
 "metadata": {
  "kernelspec": {
   "display_name": "Python 3",
   "language": "python",
   "name": "python3"
  },
  "language_info": {
   "codemirror_mode": {
    "name": "ipython",
    "version": 3
   },
   "file_extension": ".py",
   "mimetype": "text/x-python",
   "name": "python",
   "nbconvert_exporter": "python",
   "pygments_lexer": "ipython3",
   "version": "3.7.4"
  }
 },
 "nbformat": 4,
 "nbformat_minor": 4
}
