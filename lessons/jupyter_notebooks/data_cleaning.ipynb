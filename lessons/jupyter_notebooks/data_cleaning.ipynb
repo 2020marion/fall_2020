{
 "cells": [
  {
   "cell_type": "markdown",
   "metadata": {},
   "source": [
    "# Before class"
   ]
  },
  {
   "cell_type": "markdown",
   "metadata": {},
   "source": [
    "* Make sure you have downloaded the 'musical_instrument_reviews.csv' data file. This is a dataset containing reviews for a product on Amazon (taken from [a larger dataset on Kaggle](https://www.kaggle.com/eswarchandt/amazon-music-reviews)), and we'll be cleaning the data so we can see if customers liked the product or not.\n"
   ]
  },
  {
   "cell_type": "markdown",
   "metadata": {},
   "source": [
    "# Outline of class agenda\n",
    "\n",
    "During this class you'll:\n",
    "\n",
    "1. Learn how to select data in DataFrames by columns and by rows\n",
    "2. Learn how to change DataFrame column names\n",
    "3. Learn how to make new columns and remove columns\n",
    "4. Learn how to spot missing data in DataFrames and replace it\n",
    "5. Learn how to sort data in DataFrames\n",
    "6. Learn how to export data from a DataFrame back to a csv file\n",
    "7. Get comfortable with the 'data cleaning' process in python overall\n",
    " "
   ]
  },
  {
   "cell_type": "markdown",
   "metadata": {},
   "source": [
    "# Class\n",
    "\n",
    "Today we're going to focus on 'data cleaning'. But, what is data cleaning, exactly?\n",
    "* Any operations you need to do to get your data in shape for analysis, graphs, or presentations\n",
    "* Typically involves checking the data for correctness, fixing errors, and dealing with missing data\n",
    "* Might involve selecting only certain parts of larger datasets, or combining multiple datasets\n",
    "\n",
    "Data cleaning might not always be the most exciting aspect of working with data, but it is *super important* for any projects where you're working with data! It also is something most data scientists spend a [lot of time](https://businessoverbroadway.com/2019/02/19/how-do-data-professionals-spend-their-time-on-data-science-projects/) on\n",
    "\n",
    "\n",
    "To get started for today, we'll import pandas as usual, then read in a daset on musical instruments from a .csv file"
   ]
  },
  {
   "cell_type": "markdown",
   "metadata": {},
   "source": [
    "First import pandas"
   ]
  },
  {
   "cell_type": "code",
   "execution_count": 3,
   "metadata": {},
   "outputs": [],
   "source": [
    "import pandas as pd"
   ]
  },
  {
   "cell_type": "markdown",
   "metadata": {},
   "source": [
    "Then, read in the csv file using `pd.read_csv()`"
   ]
  },
  {
   "cell_type": "code",
   "execution_count": 4,
   "metadata": {},
   "outputs": [],
   "source": [
    "reviews = pd.read_csv('../../datasets/musical_instrument_reviews.csv')\n"
   ]
  },
  {
   "cell_type": "markdown",
   "metadata": {},
   "source": [
    "Now, let's take a quick look at it:"
   ]
  },
  {
   "cell_type": "code",
   "execution_count": 5,
   "metadata": {},
   "outputs": [
    {
     "data": {
      "text/html": [
       "<div>\n",
       "<style scoped>\n",
       "    .dataframe tbody tr th:only-of-type {\n",
       "        vertical-align: middle;\n",
       "    }\n",
       "\n",
       "    .dataframe tbody tr th {\n",
       "        vertical-align: top;\n",
       "    }\n",
       "\n",
       "    .dataframe thead th {\n",
       "        text-align: right;\n",
       "    }\n",
       "</style>\n",
       "<table border=\"1\" class=\"dataframe\">\n",
       "  <thead>\n",
       "    <tr style=\"text-align: right;\">\n",
       "      <th></th>\n",
       "      <th>reviewerID</th>\n",
       "      <th>reviewerName</th>\n",
       "      <th>reviewText</th>\n",
       "      <th>overall</th>\n",
       "      <th>summary</th>\n",
       "      <th>reviewTime</th>\n",
       "      <th>reviewWords</th>\n",
       "    </tr>\n",
       "  </thead>\n",
       "  <tbody>\n",
       "    <tr>\n",
       "      <td>0</td>\n",
       "      <td>A2IBPI20UZIR0U</td>\n",
       "      <td>cassandra tu \"Yeah, well, that's just like, u...</td>\n",
       "      <td>Not much to write about here, but it does exac...</td>\n",
       "      <td>5.0</td>\n",
       "      <td>good</td>\n",
       "      <td>02 28, 2014</td>\n",
       "      <td>51</td>\n",
       "    </tr>\n",
       "    <tr>\n",
       "      <td>1</td>\n",
       "      <td>A14VAT5EAX3D9S</td>\n",
       "      <td>Jake</td>\n",
       "      <td>The product does exactly as it should and is q...</td>\n",
       "      <td>5.0</td>\n",
       "      <td>Jake</td>\n",
       "      <td>03 16, 2013</td>\n",
       "      <td>104</td>\n",
       "    </tr>\n",
       "    <tr>\n",
       "      <td>2</td>\n",
       "      <td>A195EZSQDW3E21</td>\n",
       "      <td>Rick Bennette \"Rick Bennette\"</td>\n",
       "      <td>The primary job of this device is to block the...</td>\n",
       "      <td>5.0</td>\n",
       "      <td>It Does The Job Well</td>\n",
       "      <td>08 28, 2013</td>\n",
       "      <td>77</td>\n",
       "    </tr>\n",
       "    <tr>\n",
       "      <td>3</td>\n",
       "      <td>A2C00NNG1ZQQG2</td>\n",
       "      <td>RustyBill \"Sunday Rocker\"</td>\n",
       "      <td>Nice windscreen protects my MXL mic and preven...</td>\n",
       "      <td>5.0</td>\n",
       "      <td>GOOD WINDSCREEN FOR THE MONEY</td>\n",
       "      <td>02 14, 2014</td>\n",
       "      <td>35</td>\n",
       "    </tr>\n",
       "    <tr>\n",
       "      <td>4</td>\n",
       "      <td>A94QU4C90B1AX</td>\n",
       "      <td>SEAN MASLANKA</td>\n",
       "      <td>This pop filter is great. It looks and perform...</td>\n",
       "      <td>5.0</td>\n",
       "      <td>No more pops when I record my vocals.</td>\n",
       "      <td>02 21, 2014</td>\n",
       "      <td>28</td>\n",
       "    </tr>\n",
       "  </tbody>\n",
       "</table>\n",
       "</div>"
      ],
      "text/plain": [
       "       reviewerID                                      reviewerName  \\\n",
       "0  A2IBPI20UZIR0U  cassandra tu \"Yeah, well, that's just like, u...   \n",
       "1  A14VAT5EAX3D9S                                              Jake   \n",
       "2  A195EZSQDW3E21                     Rick Bennette \"Rick Bennette\"   \n",
       "3  A2C00NNG1ZQQG2                         RustyBill \"Sunday Rocker\"   \n",
       "4   A94QU4C90B1AX                                     SEAN MASLANKA   \n",
       "\n",
       "                                          reviewText  overall  \\\n",
       "0  Not much to write about here, but it does exac...      5.0   \n",
       "1  The product does exactly as it should and is q...      5.0   \n",
       "2  The primary job of this device is to block the...      5.0   \n",
       "3  Nice windscreen protects my MXL mic and preven...      5.0   \n",
       "4  This pop filter is great. It looks and perform...      5.0   \n",
       "\n",
       "                                 summary   reviewTime  reviewWords  \n",
       "0                                   good  02 28, 2014           51  \n",
       "1                                   Jake  03 16, 2013          104  \n",
       "2                   It Does The Job Well  08 28, 2013           77  \n",
       "3          GOOD WINDSCREEN FOR THE MONEY  02 14, 2014           35  \n",
       "4  No more pops when I record my vocals.  02 21, 2014           28  "
      ]
     },
     "execution_count": 5,
     "metadata": {},
     "output_type": "execute_result"
    }
   ],
   "source": [
    "reviews.head()"
   ]
  },
  {
   "cell_type": "markdown",
   "metadata": {},
   "source": [
    "Before we get started on data cleaning, we can check out a few things about this DataFrame. This contains 500 reviews of a product on Amazon (a screen for a microphone to help with music recording), so with this analysis we can imagine we're trying to figure out whether people seem to like this product, or whether there are certain reasons why people give it negative reviews. \n",
    "\n",
    "We have several pieces of data on each review, stored in each column:\n",
    "* **reviewerID:** a unique ID for each Amazon user who reviewed this product\n",
    "* **reviewerName:** the username for each reviewer\n",
    "* **reviewText:** a string containing the text of the entire review\n",
    "* **overall:** the user's overall rating of the product on a scale from 1-5 stars\n",
    "* **summary:** the user's summary of their review\n",
    "* **reviewTime:** the date of the review [day month year]\n",
    "* **reviewWords:** the number of words in the user's entire review (i.e. number of words in the entry in the `reviewText` column)"
   ]
  },
  {
   "cell_type": "markdown",
   "metadata": {},
   "source": [
    "## 1. Selecting data in a DataFrame by columns and by rows\n",
    "\n",
    "Last class, we learned how to select specific cells of DataFrame objects using numeric indexing with `iloc()`, but often it is much more useful to be able to work with columns and rows in different ways. We'll learn a few of those here:"
   ]
  },
  {
   "cell_type": "markdown",
   "metadata": {},
   "source": [
    "### Selecting columns\n",
    "\n",
    "There are two methods that are useful for selecting certain columns in a DataFrame.\n",
    "\n",
    "**Method 1**\n",
    "\n",
    "The first is using brackets with the column labels inside. This method is really flexible, because we can either select just one column as a Pandas Series object\n",
    "\n",
    "`reviews['reviewerID']`\n",
    "\n",
    "Or, we can one or more columns as an entire DataFrame object by using two sets of brackets (so the column labels are a list object\n",
    "\n",
    "\n",
    "`reviews[['reviewerID']]`\n",
    "\n",
    "`reviews[['reviewerID', 'overall']]`\n",
    "\n",
    "**Method 2**\n",
    "\n",
    "The second method is using `.` to reference a column as an attribute of a DataFrame. This always only gets 1 column of the data frame as a Pandas Series:\n",
    "\n",
    "`reviews.reviewerID` (this is equivalent to `reviews['reviewerID']`)\n",
    "\n",
    "The only thing to be aware of for Method 2 is that you can't make *new* columns this way. Colummns referenced with the `.` have to already exist in the DataFrame"
   ]
  },
  {
   "cell_type": "markdown",
   "metadata": {},
   "source": [
    "**Mini-challenge:** \n",
    "1. Select the `overall` column of the `reviews` DataFrame, and save if to the variable 'overall_rating'. Then run `type()` to see what kind of object you get.\n",
    "2. Make a new DataFrame of the columns `overall` and `reviewWords` and save it into a variable called `df2`. Confirm that it is a DataFrame using `type()`"
   ]
  },
  {
   "cell_type": "markdown",
   "metadata": {},
   "source": [
    "**Solution:** \n"
   ]
  },
  {
   "cell_type": "code",
   "execution_count": 6,
   "metadata": {},
   "outputs": [
    {
     "data": {
      "text/plain": [
       "pandas.core.series.Series"
      ]
     },
     "execution_count": 6,
     "metadata": {},
     "output_type": "execute_result"
    }
   ],
   "source": [
    "# part 1\n",
    "overall_rating = reviews.overall\n",
    "type(overall_rating)"
   ]
  },
  {
   "cell_type": "code",
   "execution_count": 7,
   "metadata": {},
   "outputs": [
    {
     "data": {
      "text/plain": [
       "pandas.core.frame.DataFrame"
      ]
     },
     "execution_count": 7,
     "metadata": {},
     "output_type": "execute_result"
    }
   ],
   "source": [
    "# part 2\n",
    "df2 = reviews[['overall', 'reviewWords']]\n",
    "type(df2)"
   ]
  },
  {
   "cell_type": "markdown",
   "metadata": {},
   "source": [
    "One more quick trick is that you can also make a list of column names, and then use this list to create a DataFrame with only these columns, for example:"
   ]
  },
  {
   "cell_type": "code",
   "execution_count": 8,
   "metadata": {},
   "outputs": [
    {
     "data": {
      "text/html": [
       "<div>\n",
       "<style scoped>\n",
       "    .dataframe tbody tr th:only-of-type {\n",
       "        vertical-align: middle;\n",
       "    }\n",
       "\n",
       "    .dataframe tbody tr th {\n",
       "        vertical-align: top;\n",
       "    }\n",
       "\n",
       "    .dataframe thead th {\n",
       "        text-align: right;\n",
       "    }\n",
       "</style>\n",
       "<table border=\"1\" class=\"dataframe\">\n",
       "  <thead>\n",
       "    <tr style=\"text-align: right;\">\n",
       "      <th></th>\n",
       "      <th>overall</th>\n",
       "      <th>reviewText</th>\n",
       "      <th>summary</th>\n",
       "    </tr>\n",
       "  </thead>\n",
       "  <tbody>\n",
       "    <tr>\n",
       "      <td>0</td>\n",
       "      <td>5.0</td>\n",
       "      <td>Not much to write about here, but it does exac...</td>\n",
       "      <td>good</td>\n",
       "    </tr>\n",
       "    <tr>\n",
       "      <td>1</td>\n",
       "      <td>5.0</td>\n",
       "      <td>The product does exactly as it should and is q...</td>\n",
       "      <td>Jake</td>\n",
       "    </tr>\n",
       "    <tr>\n",
       "      <td>2</td>\n",
       "      <td>5.0</td>\n",
       "      <td>The primary job of this device is to block the...</td>\n",
       "      <td>It Does The Job Well</td>\n",
       "    </tr>\n",
       "    <tr>\n",
       "      <td>3</td>\n",
       "      <td>5.0</td>\n",
       "      <td>Nice windscreen protects my MXL mic and preven...</td>\n",
       "      <td>GOOD WINDSCREEN FOR THE MONEY</td>\n",
       "    </tr>\n",
       "    <tr>\n",
       "      <td>4</td>\n",
       "      <td>5.0</td>\n",
       "      <td>This pop filter is great. It looks and perform...</td>\n",
       "      <td>No more pops when I record my vocals.</td>\n",
       "    </tr>\n",
       "  </tbody>\n",
       "</table>\n",
       "</div>"
      ],
      "text/plain": [
       "   overall                                         reviewText  \\\n",
       "0      5.0  Not much to write about here, but it does exac...   \n",
       "1      5.0  The product does exactly as it should and is q...   \n",
       "2      5.0  The primary job of this device is to block the...   \n",
       "3      5.0  Nice windscreen protects my MXL mic and preven...   \n",
       "4      5.0  This pop filter is great. It looks and perform...   \n",
       "\n",
       "                                 summary  \n",
       "0                                   good  \n",
       "1                                   Jake  \n",
       "2                   It Does The Job Well  \n",
       "3          GOOD WINDSCREEN FOR THE MONEY  \n",
       "4  No more pops when I record my vocals.  "
      ]
     },
     "execution_count": 8,
     "metadata": {},
     "output_type": "execute_result"
    }
   ],
   "source": [
    "column_list = ['overall', 'reviewText', 'summary']\n",
    "df3 = reviews[column_list]\n",
    "df3.head()"
   ]
  },
  {
   "cell_type": "markdown",
   "metadata": {},
   "source": [
    "Because `column_list` in this example is already a list, we only need 1 set of brackets here to make a DataFrame with these specified columns"
   ]
  },
  {
   "cell_type": "markdown",
   "metadata": {},
   "source": [
    "### Selecting or 'filtering' rows (based on their content)\n",
    "\n",
    "So, we've learned how to select only certain columns from a DataFrame. Great! \n",
    "\n",
    "One other thing that might be really helpful is only selecting certain *rows*. We saw how to do that last time with `iloc()`, but what might often be more useful is only including rows that with data in them that *fit certain criteria*. Often, we might call this **filtering** the data.\n",
    "\n",
    "For example, when we're going through these product reviews, we might want to \n",
    "* filter the data for reviews that were longer than 50 words\n",
    "* filter the data for reviews in the year 2014"
   ]
  },
  {
   "cell_type": "markdown",
   "metadata": {},
   "source": [
    "Generally, we filter rows by applying a [conditional statement](https://www.python-course.eu/python3_conditional_statements.php#:~:text=statements%20in%20Python.-,Conditional%20statements%20in%20Python,should%20be%20executed%20or%20not.&text=The%20indented%20block%20is%20only,condition%20'condition'%20is%20True.) (a logical statement that can return `True` or `False` for each entry) related to a column of the DataFrame\n",
    "\n",
    "For example, one conditional statement to check if reviews are longer than 50 words could be:"
   ]
  },
  {
   "cell_type": "code",
   "execution_count": 9,
   "metadata": {},
   "outputs": [
    {
     "data": {
      "text/plain": [
       "0       True\n",
       "1       True\n",
       "2       True\n",
       "3      False\n",
       "4      False\n",
       "       ...  \n",
       "495    False\n",
       "496    False\n",
       "497     True\n",
       "498    False\n",
       "499    False\n",
       "Name: reviewWords, Length: 500, dtype: bool"
      ]
     },
     "execution_count": 9,
     "metadata": {},
     "output_type": "execute_result"
    }
   ],
   "source": [
    "reviews.reviewWords > 50"
   ]
  },
  {
   "cell_type": "markdown",
   "metadata": {},
   "source": [
    "If we do the conditional statement *by itself* like this, it returns a pandas Series full of `True` and `False` values. For each review, we get `True` if the condition is met (the review was longer than 50 words, or `reviewWords > 50`) and `False` if not.\n",
    "\n",
    "Now, the *fancy part* comes in when we use this Series of `True` and `False` values to select which rows of whole DataFrame we want. We can use this to take **only the rows of the DataFrame where the condition is met, where the value is `True`** with the following syntax:"
   ]
  },
  {
   "cell_type": "code",
   "execution_count": 10,
   "metadata": {},
   "outputs": [],
   "source": [
    "reviews_above_50_words = reviews[reviews.reviewWords > 50]"
   ]
  },
  {
   "cell_type": "markdown",
   "metadata": {},
   "source": [
    "This is a *bunch* of steps in one line of code, but to summarise, what this does is to apply a **condition** to the `reviewWords` column of the DataFrame, which only returns `True` if the numeric value for an entry in that column is above 50. Then, the bracket indexing selects *only* the rows with a value of `True` from `reviews`, and we save that into a new DataFrame object. Let's take a look to confirm that we're only getting rows where the review is over 50 words:"
   ]
  },
  {
   "cell_type": "code",
   "execution_count": 11,
   "metadata": {},
   "outputs": [
    {
     "data": {
      "text/html": [
       "<div>\n",
       "<style scoped>\n",
       "    .dataframe tbody tr th:only-of-type {\n",
       "        vertical-align: middle;\n",
       "    }\n",
       "\n",
       "    .dataframe tbody tr th {\n",
       "        vertical-align: top;\n",
       "    }\n",
       "\n",
       "    .dataframe thead th {\n",
       "        text-align: right;\n",
       "    }\n",
       "</style>\n",
       "<table border=\"1\" class=\"dataframe\">\n",
       "  <thead>\n",
       "    <tr style=\"text-align: right;\">\n",
       "      <th></th>\n",
       "      <th>reviewerID</th>\n",
       "      <th>reviewerName</th>\n",
       "      <th>reviewText</th>\n",
       "      <th>overall</th>\n",
       "      <th>summary</th>\n",
       "      <th>reviewTime</th>\n",
       "      <th>reviewWords</th>\n",
       "    </tr>\n",
       "  </thead>\n",
       "  <tbody>\n",
       "    <tr>\n",
       "      <td>0</td>\n",
       "      <td>A2IBPI20UZIR0U</td>\n",
       "      <td>cassandra tu \"Yeah, well, that's just like, u...</td>\n",
       "      <td>Not much to write about here, but it does exac...</td>\n",
       "      <td>5.0</td>\n",
       "      <td>good</td>\n",
       "      <td>02 28, 2014</td>\n",
       "      <td>51</td>\n",
       "    </tr>\n",
       "    <tr>\n",
       "      <td>1</td>\n",
       "      <td>A14VAT5EAX3D9S</td>\n",
       "      <td>Jake</td>\n",
       "      <td>The product does exactly as it should and is q...</td>\n",
       "      <td>5.0</td>\n",
       "      <td>Jake</td>\n",
       "      <td>03 16, 2013</td>\n",
       "      <td>104</td>\n",
       "    </tr>\n",
       "    <tr>\n",
       "      <td>2</td>\n",
       "      <td>A195EZSQDW3E21</td>\n",
       "      <td>Rick Bennette \"Rick Bennette\"</td>\n",
       "      <td>The primary job of this device is to block the...</td>\n",
       "      <td>5.0</td>\n",
       "      <td>It Does The Job Well</td>\n",
       "      <td>08 28, 2013</td>\n",
       "      <td>77</td>\n",
       "    </tr>\n",
       "    <tr>\n",
       "      <td>7</td>\n",
       "      <td>AJNFQI3YR6XJ5</td>\n",
       "      <td>Fender Guy \"Rick\"</td>\n",
       "      <td>I now use this cable to run from the output of...</td>\n",
       "      <td>3.0</td>\n",
       "      <td>Didn't fit my 1996 Fender Strat...</td>\n",
       "      <td>11 16, 2012</td>\n",
       "      <td>167</td>\n",
       "    </tr>\n",
       "    <tr>\n",
       "      <td>10</td>\n",
       "      <td>A2NYK9KWFMJV4Y</td>\n",
       "      <td>Mike Tarrani \"Jazz Drummer\"</td>\n",
       "      <td>Monster makes a wide array of cables, includin...</td>\n",
       "      <td>5.0</td>\n",
       "      <td>One of the best instrument cables within the b...</td>\n",
       "      <td>04 19, 2012</td>\n",
       "      <td>190</td>\n",
       "    </tr>\n",
       "  </tbody>\n",
       "</table>\n",
       "</div>"
      ],
      "text/plain": [
       "        reviewerID                                      reviewerName  \\\n",
       "0   A2IBPI20UZIR0U  cassandra tu \"Yeah, well, that's just like, u...   \n",
       "1   A14VAT5EAX3D9S                                              Jake   \n",
       "2   A195EZSQDW3E21                     Rick Bennette \"Rick Bennette\"   \n",
       "7    AJNFQI3YR6XJ5                                 Fender Guy \"Rick\"   \n",
       "10  A2NYK9KWFMJV4Y                       Mike Tarrani \"Jazz Drummer\"   \n",
       "\n",
       "                                           reviewText  overall  \\\n",
       "0   Not much to write about here, but it does exac...      5.0   \n",
       "1   The product does exactly as it should and is q...      5.0   \n",
       "2   The primary job of this device is to block the...      5.0   \n",
       "7   I now use this cable to run from the output of...      3.0   \n",
       "10  Monster makes a wide array of cables, includin...      5.0   \n",
       "\n",
       "                                              summary   reviewTime  \\\n",
       "0                                                good  02 28, 2014   \n",
       "1                                                Jake  03 16, 2013   \n",
       "2                                It Does The Job Well  08 28, 2013   \n",
       "7                  Didn't fit my 1996 Fender Strat...  11 16, 2012   \n",
       "10  One of the best instrument cables within the b...  04 19, 2012   \n",
       "\n",
       "    reviewWords  \n",
       "0            51  \n",
       "1           104  \n",
       "2            77  \n",
       "7           167  \n",
       "10          190  "
      ]
     },
     "execution_count": 11,
     "metadata": {},
     "output_type": "execute_result"
    }
   ],
   "source": [
    "reviews_above_50_words.head()"
   ]
  },
  {
   "cell_type": "markdown",
   "metadata": {},
   "source": [
    "**Mini-challenge:**\n",
    "\n",
    "In a similar way to what we just did, filter `reviews` to make a new DataFrame called `good_reviews` with only `overall` scores of 4 or higher."
   ]
  },
  {
   "cell_type": "markdown",
   "metadata": {},
   "source": [
    "**Solution**"
   ]
  },
  {
   "cell_type": "code",
   "execution_count": 12,
   "metadata": {},
   "outputs": [],
   "source": [
    "good_reviews = reviews[reviews.overall >= 4]"
   ]
  },
  {
   "cell_type": "markdown",
   "metadata": {},
   "source": [
    "We can use the describe() function to check that the minumum value in the overall column is a 4"
   ]
  },
  {
   "cell_type": "code",
   "execution_count": 15,
   "metadata": {},
   "outputs": [
    {
     "data": {
      "text/html": [
       "<div>\n",
       "<style scoped>\n",
       "    .dataframe tbody tr th:only-of-type {\n",
       "        vertical-align: middle;\n",
       "    }\n",
       "\n",
       "    .dataframe tbody tr th {\n",
       "        vertical-align: top;\n",
       "    }\n",
       "\n",
       "    .dataframe thead th {\n",
       "        text-align: right;\n",
       "    }\n",
       "</style>\n",
       "<table border=\"1\" class=\"dataframe\">\n",
       "  <thead>\n",
       "    <tr style=\"text-align: right;\">\n",
       "      <th></th>\n",
       "      <th>overall</th>\n",
       "      <th>reviewWords</th>\n",
       "    </tr>\n",
       "  </thead>\n",
       "  <tbody>\n",
       "    <tr>\n",
       "      <td>count</td>\n",
       "      <td>451.000000</td>\n",
       "      <td>451.000000</td>\n",
       "    </tr>\n",
       "    <tr>\n",
       "      <td>mean</td>\n",
       "      <td>4.725055</td>\n",
       "      <td>86.119734</td>\n",
       "    </tr>\n",
       "    <tr>\n",
       "      <td>std</td>\n",
       "      <td>0.446982</td>\n",
       "      <td>107.781997</td>\n",
       "    </tr>\n",
       "    <tr>\n",
       "      <td>min</td>\n",
       "      <td>4.000000</td>\n",
       "      <td>7.000000</td>\n",
       "    </tr>\n",
       "    <tr>\n",
       "      <td>25%</td>\n",
       "      <td>4.000000</td>\n",
       "      <td>30.000000</td>\n",
       "    </tr>\n",
       "    <tr>\n",
       "      <td>50%</td>\n",
       "      <td>5.000000</td>\n",
       "      <td>49.000000</td>\n",
       "    </tr>\n",
       "    <tr>\n",
       "      <td>75%</td>\n",
       "      <td>5.000000</td>\n",
       "      <td>90.500000</td>\n",
       "    </tr>\n",
       "    <tr>\n",
       "      <td>max</td>\n",
       "      <td>5.000000</td>\n",
       "      <td>915.000000</td>\n",
       "    </tr>\n",
       "  </tbody>\n",
       "</table>\n",
       "</div>"
      ],
      "text/plain": [
       "          overall  reviewWords\n",
       "count  451.000000   451.000000\n",
       "mean     4.725055    86.119734\n",
       "std      0.446982   107.781997\n",
       "min      4.000000     7.000000\n",
       "25%      4.000000    30.000000\n",
       "50%      5.000000    49.000000\n",
       "75%      5.000000    90.500000\n",
       "max      5.000000   915.000000"
      ]
     },
     "execution_count": 15,
     "metadata": {},
     "output_type": "execute_result"
    }
   ],
   "source": [
    "good_reviews.describe()"
   ]
  },
  {
   "cell_type": "markdown",
   "metadata": {},
   "source": [
    "## 3. Adding and removing DataFrame columns\n",
    "\n",
    "Often we'll want to add new columns to our DataFrame to make new useful variables, or remove columns we're not using. Let's learn how to do both here!\n",
    "\n",
    "**Adding a new column**\n",
    "\n",
    "In general, we can add new columns using the `df['column_name']` syntax just as if we were working with existing columns. \n",
    "\n",
    "As an example, maybe we want to make a new column that indicates if a review was especially long (over 500 words) called `long_review`. "
   ]
  },
  {
   "cell_type": "code",
   "execution_count": 25,
   "metadata": {},
   "outputs": [],
   "source": [
    "reviews['long_review'] = reviews.reviewWords > 100"
   ]
  },
  {
   "cell_type": "markdown",
   "metadata": {},
   "source": [
    "## Topic 2\n",
    "\n",
    "\n",
    "Here is a great sentence with some text for the lesson, as well as inline code like `print('hello world)` or `git status`"
   ]
  },
  {
   "cell_type": "markdown",
   "metadata": {},
   "source": [
    "# Challenge"
   ]
  },
  {
   "cell_type": "markdown",
   "metadata": {},
   "source": [
    "For this challenge in this class, make an awesome python function!"
   ]
  }
 ],
 "metadata": {
  "kernelspec": {
   "display_name": "Python 3",
   "language": "python",
   "name": "python3"
  },
  "language_info": {
   "codemirror_mode": {
    "name": "ipython",
    "version": 3
   },
   "file_extension": ".py",
   "mimetype": "text/x-python",
   "name": "python",
   "nbconvert_exporter": "python",
   "pygments_lexer": "ipython3",
   "version": "3.7.4"
  }
 },
 "nbformat": 4,
 "nbformat_minor": 4
}
