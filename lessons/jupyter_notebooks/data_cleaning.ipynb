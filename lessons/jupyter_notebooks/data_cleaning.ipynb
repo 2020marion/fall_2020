{
 "cells": [
  {
   "cell_type": "markdown",
   "metadata": {},
   "source": [
    "# Before class"
   ]
  },
  {
   "cell_type": "markdown",
   "metadata": {},
   "source": [
    "* Make sure you have downloaded the 'musical_instrument_reviews.csv' data file. This is a dataset containing reviews for a product (a cable for instruments) on Amazon, and we'll be cleaning the data so we can see if customers liked the product or not.\n"
   ]
  },
  {
   "cell_type": "markdown",
   "metadata": {},
   "source": [
    "# Outline of class agenda\n",
    "\n",
    "During this class you'll:\n",
    "\n",
    "1. Learn how to select data in DataFrames by columns and by rows\n",
    "2. Learn how to change DataFrame column names\n",
    "3. Learn how to make new columns and remove columns\n",
    "4. Learn how to spot missing data in DataFrames and replace it\n",
    "5. Learn how to sort data in DataFrames\n",
    "6. Learn how to export data from a DataFrame back to a csv file\n",
    "7. Get comfortable with the 'data cleaning' process in python overall\n",
    " "
   ]
  },
  {
   "cell_type": "markdown",
   "metadata": {},
   "source": [
    "## Topic 1"
   ]
  },
  {
   "cell_type": "code",
   "execution_count": 1,
   "metadata": {},
   "outputs": [],
   "source": [
    "# here is some python code for topic 1\n",
    "def my_cool_function(user_input):\n",
    "    return(2*user_input)"
   ]
  },
  {
   "cell_type": "markdown",
   "metadata": {},
   "source": [
    "## Topic 2\n",
    "\n",
    "\n",
    "Here is a great sentence with some text for the lesson, as well as inline code like `print('hello world)` or `git status`"
   ]
  },
  {
   "cell_type": "markdown",
   "metadata": {},
   "source": [
    "# Challenge"
   ]
  },
  {
   "cell_type": "markdown",
   "metadata": {},
   "source": [
    "For this challenge in this class, make an awesome python function!"
   ]
  }
 ],
 "metadata": {
  "kernelspec": {
   "display_name": "Python 3",
   "language": "python",
   "name": "python3"
  },
  "language_info": {
   "codemirror_mode": {
    "name": "ipython",
    "version": 3
   },
   "file_extension": ".py",
   "mimetype": "text/x-python",
   "name": "python",
   "nbconvert_exporter": "python",
   "pygments_lexer": "ipython3",
   "version": "3.7.4"
  }
 },
 "nbformat": 4,
 "nbformat_minor": 2
}
