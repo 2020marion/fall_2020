{
 "cells": [
  {
   "cell_type": "markdown",
   "metadata": {},
   "source": [
    "# Before class"
   ]
  },
  {
   "cell_type": "markdown",
   "metadata": {},
   "source": [
    "  * Make sure you have git installed on your computer before class. \n",
    "      * This can be checked by running `git --version` from the command line. \n",
    "      * If you see something like \"git version 1.7.7.3\" (or any other version of git) pop up, you're all set. If you see something like \"command not found\", you'll need to install\n",
    "      * If you need to need to install it -- use the [Mac installer](https://sourceforge.net/projects/git-osx-installer/) or [Windows](https://git-scm.com/download/win)\n",
    "  * If you don't have a Github account, [sign up for a free account on Github](https://github.com/join). We'll be using these accounts in class.\n",
    "    "
   ]
  },
  {
   "cell_type": "markdown",
   "metadata": {},
   "source": [
    "# Outline of class agenda\n",
    "\n",
    "During this class, you will:\n",
    "\n",
    "1. Learn what Git & Github are, and why they're useful\n",
    "2. Set up Git on your computer\n",
    "3. Use Git for version control\n",
    "4. Sync your work to the cloud with Github\n",
    " "
   ]
  },
  {
   "cell_type": "markdown",
   "metadata": {},
   "source": [
    "# Class "
   ]
  },
  {
   "cell_type": "markdown",
   "metadata": {},
   "source": [
    "## 1. What are Git and Github?\n",
    "\n",
    "### Git\n",
    "\n",
    "Git is a tool for implementing something called \"version control\", which tracks changes you've made to your files, and stores the history of your changes. "
   ]
  },
  {
   "cell_type": "markdown",
   "metadata": {},
   "source": [
    "Have you ever had a situation like this?\n",
    "<img src=\"https://thedataarealright.files.wordpress.com/2018/11/screen-shot-2012-09-12-at-08-38-56.png\" width=\"500\">\n",
    "\n",
    "This kind of system, where we have to save a file with a new name everytime we update it (so we don't lose previous work) can be really confusing! Git, by using version control, can make this much simpler.\n",
    "\n",
    "With Git, you can make your changes and save to just one filename, while still having your change history tracked so you could return to an older version of you'd like. You'll get to try this out soon."
   ]
  },
  {
   "cell_type": "markdown",
   "metadata": {},
   "source": [
    "### Github <img src=\"https://miro.medium.com/max/2560/1*JLYlSLSK8-AZo8gt9UdYqA.jpeg\" width=\"200\">\n",
    "\n",
    "Github is a little bit different from Git. While Git is the version control system that helps track your files, Github is a platform for hosting file folders (or 'repositories' or 'repos') on the cloud. Github provides some really useful tools to collaborate with others and share your work publicly.\n",
    "\n",
    "By the end of this lesson, you'll also be setting up your own Github repository!"
   ]
  },
  {
   "cell_type": "markdown",
   "metadata": {},
   "source": [
    "## 2. Setting up Git on your computer\n",
    "\n",
    "Git is most often used from the command line (just like how we've been running python scripts), although there are other ways to use it. For the most part, all of the ways we'll use Git today will be from the command line. When you first set up Git on your computer, you'll need to do a few extra things to configure it. These are setup steps you have to to **once only**\n",
    "\n",
    "#### Git Config\n",
    "\n",
    "Using the command line, you'll first need to tell Git what your user name is:\n",
    "\n",
    "`git config --global user.name \"Paul Bloom\"`\n",
    "\n",
    "Then, you'll want to set up an email address to associate with your Git activity. Here, you should make sure to use the **same email address attached to your Github account**:\n",
    "\n",
    "`git config --global user.email \"paul.bloom@columbia.edu\"`\n",
    "\n",
    "Now you should be all set up to start using Git on your computer!"
   ]
  },
  {
   "cell_type": "markdown",
   "metadata": {},
   "source": [
    "## 3. Using Git for version control"
   ]
  },
  {
   "cell_type": "markdown",
   "metadata": {},
   "source": [
    "### Initializing a folder with git version control\n",
    "\n",
    "First, you can set up a new folder on your computer. A git-controlled folder starts out in basically the same way as any other folder. Let's make a directory called 'example_git' in your class folder, then navigate into it"
   ]
  },
  {
   "cell_type": "markdown",
   "metadata": {},
   "source": [
    "`mkdir example_git`\n",
    "\n",
    "`cd example_git`\n",
    "\n",
    "When you run `ls` in this folder, you'll notice that there are no files.\n",
    "\n",
    "Now, we can initialize this folder as a git repository by running the following:\n",
    "\n",
    "`git init`"
   ]
  },
  {
   "cell_type": "markdown",
   "metadata": {},
   "source": [
    "## 4. Syncing your work to the cloud with Github"
   ]
  },
  {
   "cell_type": "markdown",
   "metadata": {},
   "source": [
    "# Challenge"
   ]
  },
  {
   "cell_type": "markdown",
   "metadata": {},
   "source": [
    "For this challenge in this class, make an awesome python function!"
   ]
  },
  {
   "cell_type": "code",
   "execution_count": null,
   "metadata": {},
   "outputs": [],
   "source": []
  },
  {
   "cell_type": "markdown",
   "metadata": {},
   "source": [
    "## Topic 2\n",
    "\n",
    "\n",
    "Here is a great sentence with some text for the lesson, as well as inline code like `print('hello world)` or `git status`"
   ]
  },
  {
   "cell_type": "code",
   "execution_count": 1,
   "metadata": {},
   "outputs": [],
   "source": [
    "# here is some python code for topic 1\n",
    "def my_cool_function(user_input):\n",
    "    return(2*user_input)"
   ]
  }
 ],
 "metadata": {
  "kernelspec": {
   "display_name": "Python 3",
   "language": "python",
   "name": "python3"
  },
  "language_info": {
   "codemirror_mode": {
    "name": "ipython",
    "version": 3
   },
   "file_extension": ".py",
   "mimetype": "text/x-python",
   "name": "python",
   "nbconvert_exporter": "python",
   "pygments_lexer": "ipython3",
   "version": "3.7.4"
  }
 },
 "nbformat": 4,
 "nbformat_minor": 2
}
